{
 "cells": [
  {
   "cell_type": "code",
   "execution_count": 1,
   "id": "e1b7cc20-13d4-4436-bf0b-fb42b1ef4af3",
   "metadata": {
    "tags": []
   },
   "outputs": [],
   "source": [
    "import requests\n",
    "import pandas\n",
    "from pandas import to_numeric\n",
    "from bs4 import BeautifulSoup\n",
    "from pykrx import stock as krx\n",
    "import FinanceDataReader as fdr\n",
    "from datetime import datetime, date, timedelta\n",
    "\n",
    "import json\n",
    "import urllib.request\n",
    "from collections import namedtuple\n",
    "from tqdm import tqdm\n",
    "import sqlite3\n",
    "from sqlite3 import Connection, Cursor, IntegrityError\n",
    "from typing import NamedTuple"
   ]
  },
  {
   "cell_type": "code",
   "execution_count": 2,
   "id": "736bd239-a428-42fb-98bb-a1b62246f869",
   "metadata": {
    "tags": []
   },
   "outputs": [],
   "source": [
    "DBFILE = 'stock_prices.db'"
   ]
  },
  {
   "cell_type": "code",
   "execution_count": 3,
   "id": "c75cbdee-fc45-4c4d-936c-4e71fb74a68d",
   "metadata": {
    "tags": []
   },
   "outputs": [],
   "source": [
    "# https://joo-ramzzi.tistory.com/7\n",
    "# https://dkgkim.tistory.com/21\n",
    "# https://github.com/sharebook-kr/pykrx"
   ]
  },
  {
   "cell_type": "markdown",
   "id": "13dc3430-4c90-4f0c-9ca8-9389e85786c8",
   "metadata": {},
   "source": [
    "## Utility functions"
   ]
  },
  {
   "cell_type": "code",
   "execution_count": 4,
   "id": "092e31b5-ad09-468b-87a0-afc94bcaf8b5",
   "metadata": {
    "tags": []
   },
   "outputs": [],
   "source": [
    "class StockInfo(NamedTuple):\n",
    "    종목명: str\n",
    "    현재가: int\n",
    "    현재가: int\n",
    "    시총: str\n",
    "    market_cap: int\n",
    "    PER: int\n",
    "    PBR: int"
   ]
  },
  {
   "cell_type": "code",
   "execution_count": 5,
   "id": "836ec5bf-75c3-4bf9-b426-c79863732329",
   "metadata": {
    "tags": []
   },
   "outputs": [],
   "source": [
    "def get_price(code: str, cnt: int, period :str='day'):\n",
    "    response = requests.get(f\"https://fchart.stock.naver.com/sise.nhn?symbol={code}&requestType=0&count={cnt}&timeframe={period}\")\n",
    "    bs = BeautifulSoup(response.text, \"html.parser\")\n",
    "    items = bs.find_all('item')\n",
    "    price_data = []\n",
    "    for item in items:\n",
    "        data = item['data'].split('|')\n",
    "        price_data.append(data)\n",
    "\n",
    "    price_data = pandas.DataFrame(price_data, columns=[\"날짜\", \"시가\", \"고가\", \"저가\", \"종가\", \"거래량\"])\n",
    "    price_data.index = price_data[\"날짜\"]\n",
    "    price_data = price_data[[\"시가\", \"고가\", \"저가\", \"종가\", \"거래량\"]]\\\n",
    "                        .rename(columns={\n",
    "                            '시가':'Open',\n",
    "                            '고가':'High',\n",
    "                            '저가':'Low',\n",
    "                            '종가':'Close',\n",
    "                            '거래량':'Volume'\n",
    "                        })\n",
    "    price_data = price_data.apply(to_numeric)\n",
    "    return price_data.iloc[::-1]"
   ]
  },
  {
   "cell_type": "code",
   "execution_count": 6,
   "id": "3ad2e870-ed62-4e5f-baef-3eb54043d1b7",
   "metadata": {
    "tags": []
   },
   "outputs": [],
   "source": [
    "def get_stock_codes():\n",
    "    code_df = pd.read_html('http://kind.krx.co.kr/corpgeneral/corpList.do?method=download&searchType=13', encoding='cp949')[0]\n",
    "    code_df.종목코드 = code_df.종목코드.map('{:06d}'.format)\n",
    "    return code_df"
   ]
  },
  {
   "cell_type": "code",
   "execution_count": 7,
   "id": "97f86147-bde0-45e4-924a-abfd1e399087",
   "metadata": {},
   "outputs": [],
   "source": [
    "def market_capitalization(item_code: str):\n",
    "    url = \"https://m.stock.naver.com/api/stock/%s/integration\"%(item_code)\n",
    "    #urllib.request를 통해 링크의 결과를 가져옵니다.\n",
    "    raw_data = urllib.request.urlopen(url).read()\n",
    "    #추후, 데이터 가공을 위해 json 형식으로 변경 합니다.\n",
    "    json_data = json.loads(raw_data)\n",
    "\n",
    "    #종목명 가져오기\n",
    "    stock_name = json_data['stockName']\n",
    "\n",
    "    #가격 가져오기\n",
    "    current_price = json_data['dealTrendInfos'][0]['closePrice']\n",
    "\n",
    "    #시총 가져오기\n",
    "    for code in json_data['totalInfos']:\n",
    "        if 'marketValue' == code['code']:\n",
    "            marketSum_value = code['value']\n",
    "\n",
    "    #PER 가져오기\n",
    "    for i in json_data['totalInfos']:\n",
    "        if 'per' == i['code']:\n",
    "            per_value_str = i['value']\n",
    "\n",
    "    #PBR 가져오기\n",
    "    for v in json_data['totalInfos']:\n",
    "        if 'pbr' == v['code']:\n",
    "            pbr_value_str = v['value']\n",
    "\n",
    "    return StockInfo(stock_name, current_price, marketSum_value, int(''.join([d for d in list(marketSum_value) if d in '0123456789'])), per_value_str, pbr_value_str)"
   ]
  },
  {
   "cell_type": "code",
   "execution_count": 8,
   "id": "c6337377-7a22-42bb-8d36-a2be1fdb1a98",
   "metadata": {
    "tags": []
   },
   "outputs": [],
   "source": [
    "def resample_df(df, period='W-FRI'):\n",
    "    wm_df = pd.DataFrame()\n",
    "    wm_df = pd.concat([wm_df, df[['Open']].resample(period).first()], axis=1)\n",
    "    wm_df = pd.concat([wm_df, df[['High']].resample(period).max()], axis=1)\n",
    "    wm_df = pd.concat([wm_df, df[['Low']].resample(period).min()], axis=1)\n",
    "    wm_df = pd.concat([wm_df, df[['Close']].resample(period).last()], axis=1)\n",
    "    wm_df = pd.concat([wm_df, df[['Volume']].resample(period).mean()], axis=1)\n",
    "    return wm_df"
   ]
  },
  {
   "cell_type": "code",
   "execution_count": 9,
   "id": "912dce62-d9ff-4f6c-8655-a573152a4ece",
   "metadata": {
    "tags": []
   },
   "outputs": [],
   "source": [
    "# df_codes = get_stock_codes()\n",
    "# df_ks_index = fdr.DataReader('KS11', date.today()-timedelta(days=480))[::-1]\n",
    "# df_kq_index = fdr.DataReader('KQ11', date.today()-timedelta(days=480))[::-1]\n",
    "# df_ks_stocks = fdr.StockListing('KOSPI') # KOSPI: 940 종목\n",
    "# df_kq_stocks = fdr.StockListing('KOSDAQ') # KOSDAQ: 1,597 종목"
   ]
  },
  {
   "cell_type": "markdown",
   "id": "1126287b-6dbf-4211-a170-45230aa6f1c4",
   "metadata": {},
   "source": [
    "## 사용법\n",
    "\n",
    "```python\n",
    "get_price(\"035720\", 10, \"week\")\n",
    "\n",
    "get_price(df_codes.종목코드[23], 10, 'week')\n",
    "\n",
    "market_capitalization(\"373220\")\n",
    "\n",
    "stock.get_market_ohlcv(\"20200831\", market=\"KOSPI\") # KOSPI의 개별 종목 별 시고저종\n",
    "\n",
    "# KOSPI Index 코스피 지수 데이터 \n",
    "kospi_df = fdr.DataReader('KS11')\n",
    "week_kospi_df = get_week_month_df(df, period='W-MON')\n",
    "month_kospi_df = get_week_month_df(df, period='M')\n",
    "```\n",
    "출처: https://simpling.tistory.com/69 [simpling:티스토리]"
   ]
  },
  {
   "cell_type": "code",
   "execution_count": 10,
   "id": "3104dadb-7265-48d1-844c-2ffec0662c8a",
   "metadata": {},
   "outputs": [],
   "source": [
    "def kospi_strong_stocks():    \n",
    "    df_ks_index_week = resample_df(df_ks_index, period='W-FRI')[::-1]\n",
    "    date = df_ks_index_week[:52][\"Low\"].idxmin()\n",
    "    lowest = df_ks_index_week.loc[date, \"Low\"]\n",
    "    currval = df_ks_index.iloc[0][\"Close\"] \n",
    "    ks_rate = (currval - lowest)/lowest*100\n",
    "    res = []\n",
    "    for code in tqdm(df_ks_stocks[\"Code\"]):\n",
    "        df_week = get_price(code, 52, \"week\")\n",
    "        date = df_week[:52][\"Low\"].idxmin()\n",
    "        lowest = df_week.loc[date, \"Low\"]\n",
    "        currval = get_price(code, 1, \"day\").iloc[0][\"Close\"]\n",
    "        rate = (currval - lowest)/lowest*100\n",
    "        if (rate > ks_rate):            \n",
    "            res.append([code, rate, market_capitalization(code).market_cap])\n",
    "    \n",
    "    return ks_rate, pd.DataFrame(res, columns=[\"code\", \"rate\", \"marcap\"])"
   ]
  },
  {
   "cell_type": "code",
   "execution_count": 11,
   "id": "6ad0f417-1fb2-459e-b227-fd7d4881eb7f",
   "metadata": {
    "tags": []
   },
   "outputs": [],
   "source": [
    "from pydantic import BaseModel\n",
    "\n",
    "class StockPrice(BaseModel):\n",
    "    code: str\n",
    "    market: str\n",
    "    date: str\n",
    "    open: float\n",
    "    high: float\n",
    "    low: float\n",
    "    close: float\n",
    "    volume: float"
   ]
  },
  {
   "cell_type": "code",
   "execution_count": 12,
   "id": "78c199d4-344f-4e92-88ce-f11dddedbee2",
   "metadata": {
    "tags": []
   },
   "outputs": [],
   "source": [
    "def db_insert(curs: Cursor, info: StockPrice):\n",
    "    qry = \"insert into StockPrice values\" \\\n",
    "          \"(:code, :market, :date, :open, :high, :low, :close, :volume)\"\n",
    "    params = info.model_dump()\n",
    "    curs.execute(qry, params)"
   ]
  },
  {
   "cell_type": "code",
   "execution_count": 13,
   "id": "3eb5480e-b0bb-407d-9265-65cf633b5b90",
   "metadata": {
    "tags": []
   },
   "outputs": [],
   "source": [
    "def get_ohlc(curs: Cursor, code: str, start_date: str|None=None, end_date: str|None=None):\n",
    "    qry = \"select * from StockPrice where code=:code \"\n",
    "    if start_date and end_date:\n",
    "        qry += f\"AND date BETWEEN '{start_date}' and '{end_date}'\"\n",
    "    params = {\"code\": code}\n",
    "    curs.execute(qry, params)\n",
    "    res = curs.fetchall()\n",
    "    df = pd.DataFrame(res, columns=[\"Code\", \"Market\", \"Date\", \"Open\", \"High\", \"Low\", \"Close\", \"Volume\"])\n",
    "    return df"
   ]
  },
  {
   "cell_type": "code",
   "execution_count": 14,
   "id": "73da845a-c5d9-4b5e-945d-51a9928d6bfa",
   "metadata": {
    "tags": []
   },
   "outputs": [],
   "source": [
    "def get_stock_list(curs: Cursor, market: str):\n",
    "    qry = f\"select DISTINCT code from StockPrice where market='{market}'\"\n",
    "    curs.execute(qry)\n",
    "    return curs.fetchall() "
   ]
  },
  {
   "cell_type": "code",
   "execution_count": 15,
   "id": "eec41857-fc67-4f0d-bba5-db2c5ae00c7a",
   "metadata": {
    "tags": []
   },
   "outputs": [],
   "source": [
    "def build_stock_price_db(dbfile: str, start_date: str, end_date: str):\n",
    "    conn = sqlite3.connect(dbfile)\n",
    "    curs = conn.cursor()\n",
    "    curs.execute(\"create table if not exists \\\n",
    "    StockPrice(code text, market text, \\\n",
    "    date text, open, high, low, close, volume, constraint pkey primary key(code, date))\")\n",
    "    def build(stock_list: list, market: str):\n",
    "        for code in tqdm(stock_list, desc=market):\n",
    "            df = fdr.DataReader(code, start_date, end_date).reset_index()\n",
    "            for _, row in df.iterrows():\n",
    "                sp = StockPrice(code=code, \n",
    "                                market=market, \n",
    "                                date=row['Date'].strftime('%Y-%m-%d'), \n",
    "                                open=row['Open'],\n",
    "                                high=row['High'],\n",
    "                                low=row['Low'],\n",
    "                                close=row['Close'],\n",
    "                                volume=row['Volume'])\n",
    "                try:\n",
    "                    db_insert(curs, sp)                    \n",
    "                except IntegrityError:\n",
    "                    pass\n",
    "    build(fdr.StockListing('KOSPI')['Code'], 'kospi')\n",
    "    build(['KS11'], 'KS11')\n",
    "    build(fdr.StockListing('KOSDAQ')['Code'], 'kosdaq')\n",
    "    build(['KQ11'], 'KQ11')\n",
    "    conn.commit()\n",
    "    conn.close()"
   ]
  },
  {
   "cell_type": "code",
   "execution_count": 16,
   "id": "fab32ad0-7df0-401d-8de7-5dd2d8483cb0",
   "metadata": {
    "tags": []
   },
   "outputs": [],
   "source": [
    "def update_stock_price_db(dbfile: str):\n",
    "    conn = sqlite3.connect(dbfile)\n",
    "    curs = conn.cursor()\n",
    "    qry = \"select DISTINCT code, market from StockPrice\"\n",
    "    curs.execute(qry)\n",
    "    res = curs.fetchall() \n",
    "    for code, market in tqdm(res):\n",
    "        qry = \"select MAX(date) from StockPrice where code=:code\"\n",
    "        params = {\"code\": code}\n",
    "        curs.execute(qry, params)\n",
    "        res = curs.fetchall()\n",
    "        start_date = res[0][0]\n",
    "        today = date.today()\n",
    "        if today == start_date:\n",
    "            continue\n",
    "        df = fdr.DataReader(code, start_date, today.strftime(\"%Y-%m-%d\")).reset_index()\n",
    "        for _, row in df.iterrows():\n",
    "            sp = StockPrice(code=code, \n",
    "                            market=market, \n",
    "                            date=row['Date'].strftime('%Y-%m-%d'), \n",
    "                            open=row['Open'],\n",
    "                            high=row['High'],\n",
    "                            low=row['Low'],\n",
    "                            close=row['Close'],\n",
    "                            volume=row['Volume'])\n",
    "            try:\n",
    "                db_insert(curs, sp)                    \n",
    "            except IntegrityError:\n",
    "                pass\n",
    "    conn.commit()\n",
    "    conn.close()"
   ]
  },
  {
   "cell_type": "code",
   "execution_count": 17,
   "id": "98e453e0-87ec-4599-9480-09a8d4f72a55",
   "metadata": {
    "tags": []
   },
   "outputs": [],
   "source": [
    "def oneday_update_stock_price_db(dbfile: str, date_: str|None = None):\n",
    "    conn = sqlite3.connect(dbfile)\n",
    "    curs = conn.cursor()\n",
    "    if not date_:\n",
    "        date_ = date.today().strftime(\"%Y-%m-%d\")\n",
    "        \n",
    "    def update(df, market):\n",
    "        for _, row in df.iterrows():\n",
    "            sp = StockPrice(code=row['Code'], \n",
    "                            market=market, \n",
    "                            date=date_, \n",
    "                            open=row['Open'],\n",
    "                            high=row['High'],\n",
    "                            low=row['Low'],\n",
    "                            close=row['Close'],\n",
    "                            volume=row['Volume'])\n",
    "            try:\n",
    "                db_insert(curs, sp)\n",
    "            except IntegrityError:\n",
    "                pass          \n",
    "        \n",
    "    columns = {'티커':'Code','시가':'Open', '고가':'High', '저가':'Low', '종가':'Close', '거래량':'Volume'}\n",
    "    df = krx.get_market_ohlcv(date_, market='KOSPI').reset_index()\n",
    "    df = df.rename(columns=columns)\n",
    "    if df.values.any():\n",
    "        update(df, 'kospi')\n",
    "        \n",
    "    df = krx.get_market_ohlcv(date_, market='KOSDAQ').reset_index()\n",
    "    df = df.rename(columns=columns)\n",
    "    if df.values.any():\n",
    "        update(df, 'kosdaq')\n",
    "     \n",
    "    for code in ['KS11', 'KQ11']:\n",
    "        df = fdr.DataReader(code, date_, date_).reset_index()\n",
    "        df['Code'] = code\n",
    "        update(df, code)\n",
    "        \n",
    "    conn.commit()\n",
    "    conn.close()    "
   ]
  },
  {
   "cell_type": "code",
   "execution_count": 108,
   "id": "0da3dda4-8878-454e-95a0-a3cf69600fd5",
   "metadata": {
    "tags": []
   },
   "outputs": [],
   "source": [
    "# build_stock_price_db(DBFILE, '2022-01-01', '2024-07-31')"
   ]
  },
  {
   "cell_type": "code",
   "execution_count": 109,
   "id": "fbd22b72-9a89-4fb6-ad8a-ee8db05299cf",
   "metadata": {
    "tags": []
   },
   "outputs": [],
   "source": [
    "# update_stock_price_db(DBFILE)"
   ]
  },
  {
   "cell_type": "code",
   "execution_count": 112,
   "id": "1a03d7fe-1b2d-4a42-9f6b-ff797dc47530",
   "metadata": {
    "tags": []
   },
   "outputs": [
    {
     "name": "stdout",
     "output_type": "stream",
     "text": [
      "1 001 2024-08-03 00:00:00 2026-08-02 00:00:00\n",
      "no data or code(\"1001\") not found\n",
      "2 001 2024-08-03 00:00:00 2026-08-02 00:00:00\n",
      "no data or code(\"2001\") not found\n"
     ]
    }
   ],
   "source": [
    "# oneday_update_stock_price_db(DBFILE)"
   ]
  },
  {
   "cell_type": "code",
   "execution_count": 235,
   "id": "2a094c55-08db-4817-884f-54e7df2c7d39",
   "metadata": {
    "tags": []
   },
   "outputs": [],
   "source": [
    "def strong_stocks(curs: Cursor, market: str):\n",
    "    if market.lower() == 'kospi':\n",
    "        market_ = 'KS11'\n",
    "    elif market.lower() == 'kosdaq':\n",
    "        market_ = 'KQ11'\n",
    "    else:\n",
    "        assert False, \"wrong market\"\n",
    "    \n",
    "    df = get_ohlc(curs, market_)\n",
    "    df['Date'] = pd.to_datetime(df['Date'])\n",
    "    df_market_index = df.set_index('Date')    \n",
    "    df_market_index_week = resample_df(df_market_index, period='W-FRI')[::-1]\n",
    "    date = df_market_index_week[:52][\"Low\"].idxmin()\n",
    "    lowest = df_market_index_week.loc[date, \"Low\"]\n",
    "    currval = df_market_index_week.iloc[0][\"Close\"] \n",
    "    ks_rate = (currval - lowest)/lowest*100\n",
    "    res = []\n",
    "    codes = [x[0] for x in get_stock_list(curs, market.lower())]\n",
    "    last_date = df_market_index.index.max()\n",
    "    start_date = last_date - timedelta(days=400)\n",
    "    df_marcap = krx.get_market_cap(last_date.strftime('%Y-%m-%d'))\n",
    "    for code in tqdm(codes):\n",
    "        df = get_ohlc(curs, code, start_date.strftime('%Y-%m-%d'), last_date.strftime('%Y-%m-%d'))\n",
    "        df['Date'] = pd.to_datetime(df['Date'])\n",
    "        df = df.set_index('Date')\n",
    "        df_week = resample_df(df, period='W-FRI')[::-1]\n",
    "        if len(df_week) < 52:\n",
    "            continue\n",
    "        date = df_week[:52][\"Low\"].idxmin()        \n",
    "        lowest = df_week.loc[date, \"Low\"]\n",
    "        if lowest == 0:\n",
    "            continue\n",
    "        currval = df[\"Close\"].iloc[-1]\n",
    "        rate = (currval - lowest)/lowest*100\n",
    "        if (rate > ks_rate):            \n",
    "            res.append([code, rate, df_marcap.loc[code, \"시가총액\"]])\n",
    "    \n",
    "    return ks_rate, pd.DataFrame(res, columns=[\"code\", \"rate\", \"marcap\"])"
   ]
  },
  {
   "cell_type": "code",
   "execution_count": 236,
   "id": "260abe97-2edd-4436-8b90-c6c9bc9384da",
   "metadata": {
    "tags": []
   },
   "outputs": [],
   "source": [
    "conn = sqlite3.connect(DBFILE)\n",
    "curs = conn.cursor()"
   ]
  },
  {
   "cell_type": "code",
   "execution_count": 242,
   "id": "772be7ef-1b7c-4fc3-ad86-b49df90394f9",
   "metadata": {
    "tags": []
   },
   "outputs": [
    {
     "name": "stderr",
     "output_type": "stream",
     "text": [
      "100%|██████████████████████████████████████████████████████████████████████████████| 1746/1746 [00:23<00:00, 74.96it/s]\n"
     ]
    }
   ],
   "source": [
    "ks_rate, df = strong_stocks(curs, 'kosdaq')"
   ]
  },
  {
   "cell_type": "code",
   "execution_count": 243,
   "id": "fe2af87b-f610-43f4-8597-f7b598227155",
   "metadata": {
    "tags": []
   },
   "outputs": [
    {
     "data": {
      "text/html": [
       "<div>\n",
       "<style scoped>\n",
       "    .dataframe tbody tr th:only-of-type {\n",
       "        vertical-align: middle;\n",
       "    }\n",
       "\n",
       "    .dataframe tbody tr th {\n",
       "        vertical-align: top;\n",
       "    }\n",
       "\n",
       "    .dataframe thead th {\n",
       "        text-align: right;\n",
       "    }\n",
       "</style>\n",
       "<table border=\"1\" class=\"dataframe\">\n",
       "  <thead>\n",
       "    <tr style=\"text-align: right;\">\n",
       "      <th></th>\n",
       "      <th>code</th>\n",
       "      <th>rate</th>\n",
       "      <th>marcap</th>\n",
       "    </tr>\n",
       "  </thead>\n",
       "  <tbody>\n",
       "    <tr>\n",
       "      <th>0</th>\n",
       "      <td>000250</td>\n",
       "      <td>223.423423</td>\n",
       "      <td>4210616224000</td>\n",
       "    </tr>\n",
       "    <tr>\n",
       "      <th>1</th>\n",
       "      <td>000440</td>\n",
       "      <td>48.355059</td>\n",
       "      <td>148828407000</td>\n",
       "    </tr>\n",
       "    <tr>\n",
       "      <th>5</th>\n",
       "      <td>001840</td>\n",
       "      <td>56.541020</td>\n",
       "      <td>69914332800</td>\n",
       "    </tr>\n",
       "    <tr>\n",
       "      <th>8</th>\n",
       "      <td>002800</td>\n",
       "      <td>48.817204</td>\n",
       "      <td>104979860000</td>\n",
       "    </tr>\n",
       "    <tr>\n",
       "      <th>11</th>\n",
       "      <td>005160</td>\n",
       "      <td>41.676505</td>\n",
       "      <td>325466892000</td>\n",
       "    </tr>\n",
       "    <tr>\n",
       "      <th>...</th>\n",
       "      <td>...</td>\n",
       "      <td>...</td>\n",
       "      <td>...</td>\n",
       "    </tr>\n",
       "    <tr>\n",
       "      <th>839</th>\n",
       "      <td>900290</td>\n",
       "      <td>36.842105</td>\n",
       "      <td>201451250000</td>\n",
       "    </tr>\n",
       "    <tr>\n",
       "      <th>842</th>\n",
       "      <td>900340</td>\n",
       "      <td>146.099291</td>\n",
       "      <td>83233897580</td>\n",
       "    </tr>\n",
       "    <tr>\n",
       "      <th>844</th>\n",
       "      <td>950140</td>\n",
       "      <td>86.263736</td>\n",
       "      <td>336760328700</td>\n",
       "    </tr>\n",
       "    <tr>\n",
       "      <th>845</th>\n",
       "      <td>950160</td>\n",
       "      <td>125.291829</td>\n",
       "      <td>1378513858050</td>\n",
       "    </tr>\n",
       "    <tr>\n",
       "      <th>846</th>\n",
       "      <td>950170</td>\n",
       "      <td>65.084227</td>\n",
       "      <td>278912815720</td>\n",
       "    </tr>\n",
       "  </tbody>\n",
       "</table>\n",
       "<p>302 rows × 3 columns</p>\n",
       "</div>"
      ],
      "text/plain": [
       "       code        rate         marcap\n",
       "0    000250  223.423423  4210616224000\n",
       "1    000440   48.355059   148828407000\n",
       "5    001840   56.541020    69914332800\n",
       "8    002800   48.817204   104979860000\n",
       "11   005160   41.676505   325466892000\n",
       "..      ...         ...            ...\n",
       "839  900290   36.842105   201451250000\n",
       "842  900340  146.099291    83233897580\n",
       "844  950140   86.263736   336760328700\n",
       "845  950160  125.291829  1378513858050\n",
       "846  950170   65.084227   278912815720\n",
       "\n",
       "[302 rows x 3 columns]"
      ]
     },
     "execution_count": 243,
     "metadata": {},
     "output_type": "execute_result"
    }
   ],
   "source": [
    "df[df['rate'] > 30]"
   ]
  },
  {
   "cell_type": "code",
   "execution_count": 241,
   "id": "bdfcd8dc-d1e3-43f1-bb5a-adae038cbba5",
   "metadata": {
    "tags": []
   },
   "outputs": [
    {
     "data": {
      "text/html": [
       "<div>\n",
       "<style scoped>\n",
       "    .dataframe tbody tr th:only-of-type {\n",
       "        vertical-align: middle;\n",
       "    }\n",
       "\n",
       "    .dataframe tbody tr th {\n",
       "        vertical-align: top;\n",
       "    }\n",
       "\n",
       "    .dataframe thead th {\n",
       "        text-align: right;\n",
       "    }\n",
       "</style>\n",
       "<table border=\"1\" class=\"dataframe\">\n",
       "  <thead>\n",
       "    <tr style=\"text-align: right;\">\n",
       "      <th></th>\n",
       "      <th>Code</th>\n",
       "      <th>Market</th>\n",
       "      <th>Date</th>\n",
       "      <th>Open</th>\n",
       "      <th>High</th>\n",
       "      <th>Low</th>\n",
       "      <th>Close</th>\n",
       "      <th>Volume</th>\n",
       "    </tr>\n",
       "  </thead>\n",
       "  <tbody>\n",
       "    <tr>\n",
       "      <th>0</th>\n",
       "      <td>000100</td>\n",
       "      <td>kospi</td>\n",
       "      <td>2022-01-03</td>\n",
       "      <td>56854.0</td>\n",
       "      <td>58135.0</td>\n",
       "      <td>56762.0</td>\n",
       "      <td>58045.0</td>\n",
       "      <td>174870.0</td>\n",
       "    </tr>\n",
       "    <tr>\n",
       "      <th>1</th>\n",
       "      <td>000100</td>\n",
       "      <td>kospi</td>\n",
       "      <td>2022-01-04</td>\n",
       "      <td>58319.0</td>\n",
       "      <td>58319.0</td>\n",
       "      <td>56762.0</td>\n",
       "      <td>56946.0</td>\n",
       "      <td>175334.0</td>\n",
       "    </tr>\n",
       "    <tr>\n",
       "      <th>2</th>\n",
       "      <td>000100</td>\n",
       "      <td>kospi</td>\n",
       "      <td>2022-01-05</td>\n",
       "      <td>56578.0</td>\n",
       "      <td>56670.0</td>\n",
       "      <td>55479.0</td>\n",
       "      <td>55938.0</td>\n",
       "      <td>220258.0</td>\n",
       "    </tr>\n",
       "    <tr>\n",
       "      <th>3</th>\n",
       "      <td>000100</td>\n",
       "      <td>kospi</td>\n",
       "      <td>2022-01-06</td>\n",
       "      <td>55113.0</td>\n",
       "      <td>56304.0</td>\n",
       "      <td>55023.0</td>\n",
       "      <td>55023.0</td>\n",
       "      <td>183085.0</td>\n",
       "    </tr>\n",
       "    <tr>\n",
       "      <th>4</th>\n",
       "      <td>000100</td>\n",
       "      <td>kospi</td>\n",
       "      <td>2022-01-07</td>\n",
       "      <td>55021.0</td>\n",
       "      <td>56211.0</td>\n",
       "      <td>54655.0</td>\n",
       "      <td>55663.0</td>\n",
       "      <td>162565.0</td>\n",
       "    </tr>\n",
       "    <tr>\n",
       "      <th>...</th>\n",
       "      <td>...</td>\n",
       "      <td>...</td>\n",
       "      <td>...</td>\n",
       "      <td>...</td>\n",
       "      <td>...</td>\n",
       "      <td>...</td>\n",
       "      <td>...</td>\n",
       "      <td>...</td>\n",
       "    </tr>\n",
       "    <tr>\n",
       "      <th>633</th>\n",
       "      <td>000100</td>\n",
       "      <td>kospi</td>\n",
       "      <td>2024-07-30</td>\n",
       "      <td>96300.0</td>\n",
       "      <td>97600.0</td>\n",
       "      <td>94600.0</td>\n",
       "      <td>97600.0</td>\n",
       "      <td>794408.0</td>\n",
       "    </tr>\n",
       "    <tr>\n",
       "      <th>634</th>\n",
       "      <td>000100</td>\n",
       "      <td>kospi</td>\n",
       "      <td>2024-07-31</td>\n",
       "      <td>98100.0</td>\n",
       "      <td>99000.0</td>\n",
       "      <td>89500.0</td>\n",
       "      <td>94400.0</td>\n",
       "      <td>1779758.0</td>\n",
       "    </tr>\n",
       "    <tr>\n",
       "      <th>635</th>\n",
       "      <td>000100</td>\n",
       "      <td>kospi</td>\n",
       "      <td>2024-08-01</td>\n",
       "      <td>93300.0</td>\n",
       "      <td>95000.0</td>\n",
       "      <td>91700.0</td>\n",
       "      <td>92000.0</td>\n",
       "      <td>721342.0</td>\n",
       "    </tr>\n",
       "    <tr>\n",
       "      <th>636</th>\n",
       "      <td>000100</td>\n",
       "      <td>kospi</td>\n",
       "      <td>2024-08-02</td>\n",
       "      <td>90600.0</td>\n",
       "      <td>92100.0</td>\n",
       "      <td>89900.0</td>\n",
       "      <td>90800.0</td>\n",
       "      <td>606631.0</td>\n",
       "    </tr>\n",
       "    <tr>\n",
       "      <th>637</th>\n",
       "      <td>000100</td>\n",
       "      <td>kospi</td>\n",
       "      <td>2024-08-03</td>\n",
       "      <td>0.0</td>\n",
       "      <td>0.0</td>\n",
       "      <td>0.0</td>\n",
       "      <td>0.0</td>\n",
       "      <td>0.0</td>\n",
       "    </tr>\n",
       "  </tbody>\n",
       "</table>\n",
       "<p>638 rows × 8 columns</p>\n",
       "</div>"
      ],
      "text/plain": [
       "       Code Market        Date     Open     High      Low    Close     Volume\n",
       "0    000100  kospi  2022-01-03  56854.0  58135.0  56762.0  58045.0   174870.0\n",
       "1    000100  kospi  2022-01-04  58319.0  58319.0  56762.0  56946.0   175334.0\n",
       "2    000100  kospi  2022-01-05  56578.0  56670.0  55479.0  55938.0   220258.0\n",
       "3    000100  kospi  2022-01-06  55113.0  56304.0  55023.0  55023.0   183085.0\n",
       "4    000100  kospi  2022-01-07  55021.0  56211.0  54655.0  55663.0   162565.0\n",
       "..      ...    ...         ...      ...      ...      ...      ...        ...\n",
       "633  000100  kospi  2024-07-30  96300.0  97600.0  94600.0  97600.0   794408.0\n",
       "634  000100  kospi  2024-07-31  98100.0  99000.0  89500.0  94400.0  1779758.0\n",
       "635  000100  kospi  2024-08-01  93300.0  95000.0  91700.0  92000.0   721342.0\n",
       "636  000100  kospi  2024-08-02  90600.0  92100.0  89900.0  90800.0   606631.0\n",
       "637  000100  kospi  2024-08-03      0.0      0.0      0.0      0.0        0.0\n",
       "\n",
       "[638 rows x 8 columns]"
      ]
     },
     "execution_count": 241,
     "metadata": {},
     "output_type": "execute_result"
    }
   ],
   "source": [
    "get_ohlc(curs, '000100')"
   ]
  },
  {
   "cell_type": "code",
   "execution_count": 23,
   "id": "a7b70ae8-838d-45ae-8326-2ed9c73d4a45",
   "metadata": {},
   "outputs": [
    {
     "data": {
      "text/html": [
       "<div>\n",
       "<style scoped>\n",
       "    .dataframe tbody tr th:only-of-type {\n",
       "        vertical-align: middle;\n",
       "    }\n",
       "\n",
       "    .dataframe tbody tr th {\n",
       "        vertical-align: top;\n",
       "    }\n",
       "\n",
       "    .dataframe thead th {\n",
       "        text-align: right;\n",
       "    }\n",
       "</style>\n",
       "<table border=\"1\" class=\"dataframe\">\n",
       "  <thead>\n",
       "    <tr style=\"text-align: right;\">\n",
       "      <th></th>\n",
       "      <th>시가</th>\n",
       "      <th>고가</th>\n",
       "      <th>저가</th>\n",
       "      <th>종가</th>\n",
       "      <th>거래량</th>\n",
       "      <th>거래대금</th>\n",
       "      <th>등락률</th>\n",
       "    </tr>\n",
       "    <tr>\n",
       "      <th>티커</th>\n",
       "      <th></th>\n",
       "      <th></th>\n",
       "      <th></th>\n",
       "      <th></th>\n",
       "      <th></th>\n",
       "      <th></th>\n",
       "      <th></th>\n",
       "    </tr>\n",
       "  </thead>\n",
       "  <tbody>\n",
       "    <tr>\n",
       "      <th>060310</th>\n",
       "      <td>2145</td>\n",
       "      <td>2180</td>\n",
       "      <td>2130</td>\n",
       "      <td>2165</td>\n",
       "      <td>145668</td>\n",
       "      <td>313038565</td>\n",
       "      <td>-0.92</td>\n",
       "    </tr>\n",
       "    <tr>\n",
       "      <th>054620</th>\n",
       "      <td>6480</td>\n",
       "      <td>6490</td>\n",
       "      <td>6200</td>\n",
       "      <td>6310</td>\n",
       "      <td>11660</td>\n",
       "      <td>73648550</td>\n",
       "      <td>-1.41</td>\n",
       "    </tr>\n",
       "    <tr>\n",
       "      <th>265520</th>\n",
       "      <td>19120</td>\n",
       "      <td>19300</td>\n",
       "      <td>19020</td>\n",
       "      <td>19290</td>\n",
       "      <td>46383</td>\n",
       "      <td>888839770</td>\n",
       "      <td>-0.31</td>\n",
       "    </tr>\n",
       "  </tbody>\n",
       "</table>\n",
       "</div>"
      ],
      "text/plain": [
       "           시가     고가     저가     종가     거래량       거래대금   등락률\n",
       "티커                                                         \n",
       "060310   2145   2180   2130   2165  145668  313038565 -0.92\n",
       "054620   6480   6490   6200   6310   11660   73648550 -1.41\n",
       "265520  19120  19300  19020  19290   46383  888839770 -0.31"
      ]
     },
     "execution_count": 23,
     "metadata": {},
     "output_type": "execute_result"
    }
   ],
   "source": [
    "df = krx.get_market_ohlcv(\"2024-08-23\", market=\"KOSDAQ\")\n",
    "df.head(3)"
   ]
  },
  {
   "cell_type": "code",
   "execution_count": 24,
   "id": "b9f3f31d-7de2-4a9a-bb0d-833beb72a249",
   "metadata": {
    "tags": []
   },
   "outputs": [
    {
     "data": {
      "text/plain": [
       "(1752, 7)"
      ]
     },
     "execution_count": 24,
     "metadata": {},
     "output_type": "execute_result"
    }
   ],
   "source": [
    "df.shape"
   ]
  },
  {
   "cell_type": "code",
   "execution_count": 25,
   "id": "cc01cc1f-5b2d-4954-83a5-e947716ba86f",
   "metadata": {
    "tags": []
   },
   "outputs": [
    {
     "data": {
      "text/html": [
       "<div>\n",
       "<style scoped>\n",
       "    .dataframe tbody tr th:only-of-type {\n",
       "        vertical-align: middle;\n",
       "    }\n",
       "\n",
       "    .dataframe tbody tr th {\n",
       "        vertical-align: top;\n",
       "    }\n",
       "\n",
       "    .dataframe thead th {\n",
       "        text-align: right;\n",
       "    }\n",
       "</style>\n",
       "<table border=\"1\" class=\"dataframe\">\n",
       "  <thead>\n",
       "    <tr style=\"text-align: right;\">\n",
       "      <th></th>\n",
       "      <th>Open</th>\n",
       "      <th>High</th>\n",
       "      <th>Low</th>\n",
       "      <th>Close</th>\n",
       "      <th>Volume</th>\n",
       "      <th>Change</th>\n",
       "    </tr>\n",
       "    <tr>\n",
       "      <th>Date</th>\n",
       "      <th></th>\n",
       "      <th></th>\n",
       "      <th></th>\n",
       "      <th></th>\n",
       "      <th></th>\n",
       "      <th></th>\n",
       "    </tr>\n",
       "  </thead>\n",
       "  <tbody>\n",
       "    <tr>\n",
       "      <th>2024-08-22</th>\n",
       "      <td>2205</td>\n",
       "      <td>2235</td>\n",
       "      <td>2170</td>\n",
       "      <td>2185</td>\n",
       "      <td>341855</td>\n",
       "      <td>-0.009070</td>\n",
       "    </tr>\n",
       "    <tr>\n",
       "      <th>2024-08-23</th>\n",
       "      <td>2145</td>\n",
       "      <td>2180</td>\n",
       "      <td>2130</td>\n",
       "      <td>2165</td>\n",
       "      <td>144961</td>\n",
       "      <td>-0.009153</td>\n",
       "    </tr>\n",
       "  </tbody>\n",
       "</table>\n",
       "</div>"
      ],
      "text/plain": [
       "            Open  High   Low  Close  Volume    Change\n",
       "Date                                                 \n",
       "2024-08-22  2205  2235  2170   2185  341855 -0.009070\n",
       "2024-08-23  2145  2180  2130   2165  144961 -0.009153"
      ]
     },
     "execution_count": 25,
     "metadata": {},
     "output_type": "execute_result"
    }
   ],
   "source": [
    "fdr.DataReader('060310', '2024-08-22' , '2024-08-24')"
   ]
  },
  {
   "cell_type": "code",
   "execution_count": 30,
   "id": "ae4c144d-8464-4e09-b1f1-49afcae38bea",
   "metadata": {
    "tags": []
   },
   "outputs": [
    {
     "name": "stdout",
     "output_type": "stream",
     "text": [
      "1 001 2024-08-21 00:00:00 2026-08-20 00:00:00\n",
      "2024-08-23 00:00:00\n"
     ]
    },
    {
     "data": {
      "text/html": [
       "<div>\n",
       "<style scoped>\n",
       "    .dataframe tbody tr th:only-of-type {\n",
       "        vertical-align: middle;\n",
       "    }\n",
       "\n",
       "    .dataframe tbody tr th {\n",
       "        vertical-align: top;\n",
       "    }\n",
       "\n",
       "    .dataframe thead th {\n",
       "        text-align: right;\n",
       "    }\n",
       "</style>\n",
       "<table border=\"1\" class=\"dataframe\">\n",
       "  <thead>\n",
       "    <tr style=\"text-align: right;\">\n",
       "      <th></th>\n",
       "      <th>시가</th>\n",
       "      <th>고가</th>\n",
       "      <th>저가</th>\n",
       "      <th>종가</th>\n",
       "      <th>거래량</th>\n",
       "      <th>거래대금</th>\n",
       "      <th>등락률</th>\n",
       "    </tr>\n",
       "    <tr>\n",
       "      <th>티커</th>\n",
       "      <th></th>\n",
       "      <th></th>\n",
       "      <th></th>\n",
       "      <th></th>\n",
       "      <th></th>\n",
       "      <th></th>\n",
       "      <th></th>\n",
       "    </tr>\n",
       "  </thead>\n",
       "  <tbody>\n",
       "    <tr>\n",
       "      <th>095570</th>\n",
       "      <td>4560</td>\n",
       "      <td>4640</td>\n",
       "      <td>4560</td>\n",
       "      <td>4620</td>\n",
       "      <td>44269</td>\n",
       "      <td>203510350</td>\n",
       "      <td>0.22</td>\n",
       "    </tr>\n",
       "    <tr>\n",
       "      <th>006840</th>\n",
       "      <td>13000</td>\n",
       "      <td>13000</td>\n",
       "      <td>12800</td>\n",
       "      <td>12880</td>\n",
       "      <td>5647</td>\n",
       "      <td>72822950</td>\n",
       "      <td>-0.92</td>\n",
       "    </tr>\n",
       "    <tr>\n",
       "      <th>027410</th>\n",
       "      <td>3470</td>\n",
       "      <td>3500</td>\n",
       "      <td>3470</td>\n",
       "      <td>3500</td>\n",
       "      <td>28504</td>\n",
       "      <td>99504790</td>\n",
       "      <td>0.00</td>\n",
       "    </tr>\n",
       "    <tr>\n",
       "      <th>282330</th>\n",
       "      <td>111400</td>\n",
       "      <td>114200</td>\n",
       "      <td>110000</td>\n",
       "      <td>112700</td>\n",
       "      <td>32993</td>\n",
       "      <td>3722922300</td>\n",
       "      <td>1.71</td>\n",
       "    </tr>\n",
       "    <tr>\n",
       "      <th>138930</th>\n",
       "      <td>9930</td>\n",
       "      <td>10080</td>\n",
       "      <td>9830</td>\n",
       "      <td>10030</td>\n",
       "      <td>945457</td>\n",
       "      <td>9455680820</td>\n",
       "      <td>1.01</td>\n",
       "    </tr>\n",
       "    <tr>\n",
       "      <th>...</th>\n",
       "      <td>...</td>\n",
       "      <td>...</td>\n",
       "      <td>...</td>\n",
       "      <td>...</td>\n",
       "      <td>...</td>\n",
       "      <td>...</td>\n",
       "      <td>...</td>\n",
       "    </tr>\n",
       "    <tr>\n",
       "      <th>079980</th>\n",
       "      <td>3135</td>\n",
       "      <td>3160</td>\n",
       "      <td>3095</td>\n",
       "      <td>3140</td>\n",
       "      <td>23804</td>\n",
       "      <td>74115515</td>\n",
       "      <td>0.00</td>\n",
       "    </tr>\n",
       "    <tr>\n",
       "      <th>005010</th>\n",
       "      <td>3995</td>\n",
       "      <td>4040</td>\n",
       "      <td>3980</td>\n",
       "      <td>4020</td>\n",
       "      <td>146408</td>\n",
       "      <td>587130840</td>\n",
       "      <td>0.63</td>\n",
       "    </tr>\n",
       "    <tr>\n",
       "      <th>000540</th>\n",
       "      <td>4000</td>\n",
       "      <td>4100</td>\n",
       "      <td>3935</td>\n",
       "      <td>4090</td>\n",
       "      <td>71370</td>\n",
       "      <td>286119325</td>\n",
       "      <td>3.15</td>\n",
       "    </tr>\n",
       "    <tr>\n",
       "      <th>000545</th>\n",
       "      <td>5870</td>\n",
       "      <td>5900</td>\n",
       "      <td>5870</td>\n",
       "      <td>5900</td>\n",
       "      <td>158</td>\n",
       "      <td>928680</td>\n",
       "      <td>1.72</td>\n",
       "    </tr>\n",
       "    <tr>\n",
       "      <th>003280</th>\n",
       "      <td>2265</td>\n",
       "      <td>2275</td>\n",
       "      <td>2215</td>\n",
       "      <td>2220</td>\n",
       "      <td>4067202</td>\n",
       "      <td>9100460600</td>\n",
       "      <td>-4.31</td>\n",
       "    </tr>\n",
       "  </tbody>\n",
       "</table>\n",
       "<p>958 rows × 7 columns</p>\n",
       "</div>"
      ],
      "text/plain": [
       "            시가      고가      저가      종가      거래량        거래대금   등락률\n",
       "티커                                                               \n",
       "095570    4560    4640    4560    4620    44269   203510350  0.22\n",
       "006840   13000   13000   12800   12880     5647    72822950 -0.92\n",
       "027410    3470    3500    3470    3500    28504    99504790  0.00\n",
       "282330  111400  114200  110000  112700    32993  3722922300  1.71\n",
       "138930    9930   10080    9830   10030   945457  9455680820  1.01\n",
       "...        ...     ...     ...     ...      ...         ...   ...\n",
       "079980    3135    3160    3095    3140    23804    74115515  0.00\n",
       "005010    3995    4040    3980    4020   146408   587130840  0.63\n",
       "000540    4000    4100    3935    4090    71370   286119325  3.15\n",
       "000545    5870    5900    5870    5900      158      928680  1.72\n",
       "003280    2265    2275    2215    2220  4067202  9100460600 -4.31\n",
       "\n",
       "[958 rows x 7 columns]"
      ]
     },
     "execution_count": 30,
     "metadata": {},
     "output_type": "execute_result"
    }
   ],
   "source": [
    "d = fdr.DataReader('KS11', '2024-08-21' , date.today()).index[-1]\n",
    "print(d)\n",
    "krx.get_market_ohlcv(d, market=\"KOSPI\")"
   ]
  },
  {
   "cell_type": "code",
   "execution_count": 34,
   "id": "8358b4a0-970a-470a-bb2e-f23151406a70",
   "metadata": {
    "tags": []
   },
   "outputs": [
    {
     "name": "stdout",
     "output_type": "stream",
     "text": [
      "1 001 2024-08-21 00:00:00 2026-08-20 00:00:00\n"
     ]
    },
    {
     "data": {
      "text/plain": [
       "DatetimeIndex(['2024-08-21', '2024-08-22', '2024-08-23'], dtype='datetime64[ns]', name='Date', freq=None)"
      ]
     },
     "execution_count": 34,
     "metadata": {},
     "output_type": "execute_result"
    }
   ],
   "source": [
    "fdr.DataReader('KS11', '2024-08-21' , date.today()).index"
   ]
  },
  {
   "cell_type": "code",
   "execution_count": 37,
   "id": "85ba136a-a798-42fa-950c-d0fc7c57e33f",
   "metadata": {
    "tags": []
   },
   "outputs": [
    {
     "data": {
      "text/html": [
       "<div>\n",
       "<style scoped>\n",
       "    .dataframe tbody tr th:only-of-type {\n",
       "        vertical-align: middle;\n",
       "    }\n",
       "\n",
       "    .dataframe tbody tr th {\n",
       "        vertical-align: top;\n",
       "    }\n",
       "\n",
       "    .dataframe thead th {\n",
       "        text-align: right;\n",
       "    }\n",
       "</style>\n",
       "<table border=\"1\" class=\"dataframe\">\n",
       "  <thead>\n",
       "    <tr style=\"text-align: right;\">\n",
       "      <th></th>\n",
       "      <th>Code</th>\n",
       "      <th>Market</th>\n",
       "      <th>Date</th>\n",
       "      <th>Open</th>\n",
       "      <th>High</th>\n",
       "      <th>Low</th>\n",
       "      <th>Close</th>\n",
       "      <th>Volume</th>\n",
       "    </tr>\n",
       "  </thead>\n",
       "  <tbody>\n",
       "    <tr>\n",
       "      <th>0</th>\n",
       "      <td>093240</td>\n",
       "      <td>kospi</td>\n",
       "      <td>2024-05-28</td>\n",
       "      <td>1239.0</td>\n",
       "      <td>1362.0</td>\n",
       "      <td>1207.0</td>\n",
       "      <td>1208.0</td>\n",
       "      <td>2525595.0</td>\n",
       "    </tr>\n",
       "  </tbody>\n",
       "</table>\n",
       "</div>"
      ],
      "text/plain": [
       "     Code Market        Date    Open    High     Low   Close     Volume\n",
       "0  093240  kospi  2024-05-28  1239.0  1362.0  1207.0  1208.0  2525595.0"
      ]
     },
     "execution_count": 37,
     "metadata": {},
     "output_type": "execute_result"
    }
   ],
   "source": [
    "conn = sqlite3.connect(DBFILE)\n",
    "curs = conn.cursor()\n",
    "\n",
    "get_ohlc(curs, '093240', '2024-05-28', '2024-05-28')"
   ]
  },
  {
   "cell_type": "code",
   "execution_count": null,
   "id": "11b5024a-d813-451e-8a58-74c4bd78a01c",
   "metadata": {},
   "outputs": [],
   "source": []
  }
 ],
 "metadata": {
  "kernelspec": {
   "display_name": "Python 3 (ipykernel)",
   "language": "python",
   "name": "python3"
  },
  "language_info": {
   "codemirror_mode": {
    "name": "ipython",
    "version": 3
   },
   "file_extension": ".py",
   "mimetype": "text/x-python",
   "name": "python",
   "nbconvert_exporter": "python",
   "pygments_lexer": "ipython3",
   "version": "3.11.5"
  }
 },
 "nbformat": 4,
 "nbformat_minor": 5
}
