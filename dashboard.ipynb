{
 "cells": [
  {
   "cell_type": "code",
   "execution_count": 2,
   "id": "50aa6293-6dde-4474-873e-a25fd42c69b7",
   "metadata": {
    "tags": []
   },
   "outputs": [
    {
     "name": "stderr",
     "output_type": "stream",
     "text": [
      "100%|████████████████████████████████████████████████████████████████████████████████| 958/958 [00:12<00:00, 73.87it/s]\n",
      "100%|██████████████████████████████████████████████████████████████████████████████| 1746/1746 [00:23<00:00, 74.03it/s]\n"
     ]
    }
   ],
   "source": [
    "ks_rate, df_ks = strong_stocks('kospi')\n",
    "kq_rate, df_kq = strong_stocks('kosdaq')"
   ]
  },
  {
   "cell_type": "code",
   "execution_count": 124,
   "id": "b1ed5643-ac52-41f7-b064-9a752b178fcd",
   "metadata": {
    "tags": []
   },
   "outputs": [],
   "source": [
    "from mplchart.chart import Chart\n",
    "from mplchart.primitives import Candlesticks, Volume\n",
    "from mplchart.indicators import ROC, SMA, EMA, RSI, MACD\n",
    "import yfinance as yf\n",
    "\n",
    "def next_stock(button):\n",
    "    if market_sel.value == '코스피':\n",
    "        if not next_stock.ks_initial:\n",
    "            if button == btn_next_chart:\n",
    "                next_stock.ks_cnt += 1\n",
    "                next_stock.ks_cnt %= len(df_ks)\n",
    "                \n",
    "            else:\n",
    "                next_stock.ks_cnt -= 1\n",
    "                next_stock.ks_cnt %= len(df_ks)\n",
    "        else:\n",
    "            next_stock.ks_initial = False\n",
    "        plot_chart(df_ks.iloc[next_stock.ks_cnt, :])\n",
    "    else:\n",
    "        if not next_stock.kq_initial:\n",
    "            if button == btn_next_chart:\n",
    "                next_stock.kq_cnt += 1\n",
    "                next_stock.kq_cnt %= len(df_kq)\n",
    "            else:\n",
    "                next_stock.kq_cnt -= 1\n",
    "                next_stock.kq_cnt %= len(df_kq)\n",
    "        else:\n",
    "            next_stock.kq_initial = False\n",
    "        plot_chart(df_kq.iloc[next_stock.kq_cnt, :])\n",
    "next_stock.ks_cnt = 0\n",
    "next_stock.kq_cnt = 0\n",
    "next_stock.ks_initial = True\n",
    "next_stock.kq_initial = True\n",
    "\n",
    "\n",
    "indicators = [\n",
    "    Candlesticks(), SMA(50), SMA(200), Volume(),\n",
    "    RSI(),\n",
    "    MACD(),\n",
    "]\n",
    "\n",
    "def plot_chart(strong):\n",
    "    chart_out.clear_output()\n",
    "    with chart_out:\n",
    "        code = strong['code']\n",
    "        chart = Chart(title=krx.get_market_ticker_name(code), max_bars=480)\n",
    "        prices = get_ohlc(code=code).set_index('Date')[['Open', 'High', 'Low', 'Close', 'Volume']]\n",
    "        prices.index = pd.to_datetime(prices.index)\n",
    "        chart.plot(prices, indicators)\n",
    "        chart.show()\n",
    "\n",
    "btn_next_chart = widgets.Button(\n",
    "    description='Next',\n",
    "    disabled=False,\n",
    "    button_style='', # 'success', 'info', 'warning', 'danger' or ''\n",
    "    tooltip='',\n",
    "    icon='caret-right' # (FontAwesome names without the `fa-` prefix)\n",
    ")\n",
    "btn_next_chart.on_click(next_stock)\n",
    "\n",
    "btn_prev_chart = widgets.Button(\n",
    "    description='Prev',\n",
    "    disabled=False,\n",
    "    button_style='', # 'success', 'info', 'warning', 'danger' or ''\n",
    "    tooltip='',\n",
    "    icon='caret-left' # (FontAwesome names without the `fa-` prefix)\n",
    ")\n",
    "btn_prev_chart.on_click(next_stock)\n",
    "\n",
    "chart_out = widgets.Output(layout={'border': '1px solid black'})"
   ]
  },
  {
   "cell_type": "code",
   "execution_count": 125,
   "id": "26bfc12c-e8b4-4ef7-a7c2-fd3d46c47f95",
   "metadata": {
    "tags": []
   },
   "outputs": [],
   "source": [
    "market_sel = widgets.RadioButtons(\n",
    "    options=['코스피', '코스닥'],\n",
    "    description='Market Selection',\n",
    "    disabled=False\n",
    ")"
   ]
  },
  {
   "cell_type": "code",
   "execution_count": 126,
   "id": "c675faef-5883-4cfa-a7a0-e0dbaef02935",
   "metadata": {
    "tags": []
   },
   "outputs": [],
   "source": [
    "ctrl_wg = widgets.HBox([btn_prev_chart, btn_next_chart, market_sel])\n",
    "ui = widgets.VBox([chart_out, ctrl_wg])"
   ]
  },
  {
   "cell_type": "code",
   "execution_count": 127,
   "id": "dd6439a3-42b5-40db-a86d-07137bb89769",
   "metadata": {
    "tags": []
   },
   "outputs": [
    {
     "data": {
      "application/vnd.jupyter.widget-view+json": {
       "model_id": "fc21d1fc41bb44ff939937d4730443ab",
       "version_major": 2,
       "version_minor": 0
      },
      "text/plain": [
       "VBox(children=(Output(layout=Layout(border_bottom='1px solid black', border_left='1px solid black', border_rig…"
      ]
     },
     "metadata": {},
     "output_type": "display_data"
    }
   ],
   "source": [
    "display(ui)"
   ]
  },
  {
   "cell_type": "code",
   "execution_count": 183,
   "id": "4b00eedd-d379-4c86-9d2f-3db1fab99318",
   "metadata": {
    "tags": []
   },
   "outputs": [],
   "source": [
    "import io\n",
    "\n",
    "strong_ks_file = io.StringIO()"
   ]
  },
  {
   "cell_type": "code",
   "execution_count": 170,
   "id": "34675ec8-9327-4061-a18f-351b9cfbfec2",
   "metadata": {
    "tags": []
   },
   "outputs": [],
   "source": [
    "strong_ks_file\n",
    "\n",
    "df = pd.DataFrame(dict(a=[1,2,3], b=[4,5,6]))"
   ]
  },
  {
   "cell_type": "code",
   "execution_count": 184,
   "id": "4813f1db-78fa-48cb-93ae-ebd53225f8c2",
   "metadata": {
    "tags": []
   },
   "outputs": [
    {
     "name": "stdout",
     "output_type": "stream",
     "text": [
      "aaa\n"
     ]
    }
   ],
   "source": [
    "from pandas.errors import EmptyDataError\n",
    "try:\n",
    "    df = pd.read_csv(strong_ks_file)\n",
    "except EmptyDataError:\n",
    "    df = pd.DataFrame(dict(a=[1,2,3], b=[4,5,6]))\n",
    "    print('aaa')\n",
    "    df.to_csv(path_or_buf=strong_ks_file, index=False)\n",
    "    strong_ks_file.seek(0)"
   ]
  },
  {
   "cell_type": "code",
   "execution_count": 185,
   "id": "7d3dbdf6-ca79-4f05-988c-c71507454923",
   "metadata": {
    "tags": []
   },
   "outputs": [
    {
     "data": {
      "text/html": [
       "<div>\n",
       "<style scoped>\n",
       "    .dataframe tbody tr th:only-of-type {\n",
       "        vertical-align: middle;\n",
       "    }\n",
       "\n",
       "    .dataframe tbody tr th {\n",
       "        vertical-align: top;\n",
       "    }\n",
       "\n",
       "    .dataframe thead th {\n",
       "        text-align: right;\n",
       "    }\n",
       "</style>\n",
       "<table border=\"1\" class=\"dataframe\">\n",
       "  <thead>\n",
       "    <tr style=\"text-align: right;\">\n",
       "      <th></th>\n",
       "      <th>a</th>\n",
       "      <th>b</th>\n",
       "    </tr>\n",
       "  </thead>\n",
       "  <tbody>\n",
       "    <tr>\n",
       "      <th>0</th>\n",
       "      <td>1</td>\n",
       "      <td>4</td>\n",
       "    </tr>\n",
       "    <tr>\n",
       "      <th>1</th>\n",
       "      <td>2</td>\n",
       "      <td>5</td>\n",
       "    </tr>\n",
       "    <tr>\n",
       "      <th>2</th>\n",
       "      <td>3</td>\n",
       "      <td>6</td>\n",
       "    </tr>\n",
       "  </tbody>\n",
       "</table>\n",
       "</div>"
      ],
      "text/plain": [
       "   a  b\n",
       "0  1  4\n",
       "1  2  5\n",
       "2  3  6"
      ]
     },
     "execution_count": 185,
     "metadata": {},
     "output_type": "execute_result"
    }
   ],
   "source": [
    "df"
   ]
  },
  {
   "cell_type": "code",
   "execution_count": 186,
   "id": "7bbb4d1e-e5b1-4f24-8473-ed96589fca3a",
   "metadata": {
    "tags": []
   },
   "outputs": [
    {
     "data": {
      "text/html": [
       "<div>\n",
       "<style scoped>\n",
       "    .dataframe tbody tr th:only-of-type {\n",
       "        vertical-align: middle;\n",
       "    }\n",
       "\n",
       "    .dataframe tbody tr th {\n",
       "        vertical-align: top;\n",
       "    }\n",
       "\n",
       "    .dataframe thead th {\n",
       "        text-align: right;\n",
       "    }\n",
       "</style>\n",
       "<table border=\"1\" class=\"dataframe\">\n",
       "  <thead>\n",
       "    <tr style=\"text-align: right;\">\n",
       "      <th></th>\n",
       "      <th>a</th>\n",
       "      <th>b</th>\n",
       "    </tr>\n",
       "  </thead>\n",
       "  <tbody>\n",
       "    <tr>\n",
       "      <th>0</th>\n",
       "      <td>1</td>\n",
       "      <td>4</td>\n",
       "    </tr>\n",
       "    <tr>\n",
       "      <th>1</th>\n",
       "      <td>2</td>\n",
       "      <td>5</td>\n",
       "    </tr>\n",
       "    <tr>\n",
       "      <th>2</th>\n",
       "      <td>3</td>\n",
       "      <td>6</td>\n",
       "    </tr>\n",
       "  </tbody>\n",
       "</table>\n",
       "</div>"
      ],
      "text/plain": [
       "   a  b\n",
       "0  1  4\n",
       "1  2  5\n",
       "2  3  6"
      ]
     },
     "execution_count": 186,
     "metadata": {},
     "output_type": "execute_result"
    }
   ],
   "source": [
    "pd.read_csv(strong_ks_file)"
   ]
  },
  {
   "cell_type": "code",
   "execution_count": null,
   "id": "ff34ac63-cfac-40d7-a91e-6bd1c23cfdc8",
   "metadata": {},
   "outputs": [],
   "source": []
  }
 ],
 "metadata": {
  "kernelspec": {
   "display_name": "Python 3 (ipykernel)",
   "language": "python",
   "name": "python3"
  },
  "language_info": {
   "codemirror_mode": {
    "name": "ipython",
    "version": 3
   },
   "file_extension": ".py",
   "mimetype": "text/x-python",
   "name": "python",
   "nbconvert_exporter": "python",
   "pygments_lexer": "ipython3",
   "version": "3.11.5"
  }
 },
 "nbformat": 4,
 "nbformat_minor": 5
}
