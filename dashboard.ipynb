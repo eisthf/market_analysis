{
 "cells": [
  {
   "cell_type": "code",
   "execution_count": 61,
   "id": "672a1feb-52ce-4162-9ded-42f329d86188",
   "metadata": {
    "tags": []
   },
   "outputs": [
    {
     "data": {
      "text/plain": [
       "<module 'market' from 'D:\\\\work\\\\python\\\\market_analysis\\\\market.py'>"
      ]
     },
     "execution_count": 61,
     "metadata": {},
     "output_type": "execute_result"
    }
   ],
   "source": [
    "from datetime import date, timedelta\n",
    "import market\n",
    "from market import get_ohlc, get_stock_list, strong_stocks\n",
    "import numpy as np, pandas as pd\n",
    "import ipywidgets as widgets\n",
    "from pykrx import stock as krx\n",
    "import importlib\n",
    "importlib.reload(market)"
   ]
  },
  {
   "cell_type": "code",
   "execution_count": 2,
   "id": "50aa6293-6dde-4474-873e-a25fd42c69b7",
   "metadata": {
    "tags": []
   },
   "outputs": [
    {
     "name": "stderr",
     "output_type": "stream",
     "text": [
      "100%|████████████████████████████████████████████████████████████████████████████████| 958/958 [00:12<00:00, 73.87it/s]\n",
      "100%|██████████████████████████████████████████████████████████████████████████████| 1746/1746 [00:23<00:00, 74.03it/s]\n"
     ]
    }
   ],
   "source": [
    "ks_rate, df_ks = strong_stocks('kospi')\n",
    "kq_rate, df_kq = strong_stocks('kosdaq')"
   ]
  },
  {
   "cell_type": "code",
   "execution_count": 88,
   "id": "b1ed5643-ac52-41f7-b064-9a752b178fcd",
   "metadata": {
    "tags": []
   },
   "outputs": [],
   "source": [
    "from mplchart.chart import Chart\n",
    "from mplchart.primitives import Candlesticks, Volume\n",
    "from mplchart.indicators import ROC, SMA, EMA, RSI, MACD\n",
    "\n",
    "def next_stock(button):\n",
    "    if market_sel.value == '코스피':\n",
    "        if not next_stock.ks_initial:\n",
    "            if button == btn_next_chart:\n",
    "                next_stock.ks_cnt += 1\n",
    "                next_stock.ks_cnt %= len(df_ks)\n",
    "            else:\n",
    "                next_stock.ks_cnt -= 1\n",
    "                next_stock.ks_cnt %= len(df_ks)\n",
    "        else:\n",
    "            next_stock.ks_initial = False\n",
    "        plot_chart(df_ks.iloc[next_stock.ks_cnt, :])\n",
    "    else:\n",
    "        if not next_stock.kq_initial:\n",
    "            if button == btn_next_chart:\n",
    "                next_stock.kq_cnt += 1\n",
    "                next_stock.kq_cnt %= len(df_kq)\n",
    "            else:\n",
    "                next_stock.kq_cnt -= 1\n",
    "                next_stock.kq_cnt %= len(df_kq)\n",
    "        else:\n",
    "            next_stock.kq_initial = False\n",
    "        plot_chart(df_kq.iloc[next_stock.kq_cnt, :])\n",
    "next_stock.ks_cnt = 0\n",
    "next_stock.kq_cnt = 0\n",
    "next_stock.ks_initial = True\n",
    "next_stock.kq_initial = True\n",
    "\n",
    "\n",
    "indicators = [\n",
    "    Candlesticks(), SMA(50), SMA(200), Volume(),\n",
    "    RSI(),\n",
    "    MACD(),\n",
    "]\n",
    "\n",
    "def plot_chart(strong):\n",
    "    chart_out.clear_output()\n",
    "    with chart_out:\n",
    "        code = strong['code']\n",
    "        chart = Chart(title=krx.get_market_ticker_name(code), max_bars=480)        \n",
    "        prices = get_ohlc(code=code).set_index('Date')[['Open', 'High', 'Low', 'Close', 'Volume']]\n",
    "        print(prices)\n",
    "        # chart.plot(prices, indicators)        \n",
    "\n",
    "btn_next_chart = widgets.Button(\n",
    "    description='Next',\n",
    "    disabled=False,\n",
    "    button_style='', # 'success', 'info', 'warning', 'danger' or ''\n",
    "    tooltip='',\n",
    "    icon='caret-right' # (FontAwesome names without the `fa-` prefix)\n",
    ")\n",
    "btn_next_chart.on_click(next_stock)\n",
    "\n",
    "btn_prev_chart = widgets.Button(\n",
    "    description='Prev',\n",
    "    disabled=False,\n",
    "    button_style='', # 'success', 'info', 'warning', 'danger' or ''\n",
    "    tooltip='',\n",
    "    icon='caret-left' # (FontAwesome names without the `fa-` prefix)\n",
    ")\n",
    "btn_prev_chart.on_click(next_stock)\n",
    "\n",
    "chart_out = widgets.Output(layout={'border': '1px solid black'})"
   ]
  },
  {
   "cell_type": "code",
   "execution_count": 89,
   "id": "26bfc12c-e8b4-4ef7-a7c2-fd3d46c47f95",
   "metadata": {
    "tags": []
   },
   "outputs": [],
   "source": [
    "market_sel = widgets.RadioButtons(\n",
    "    options=['코스피', '코스닥'],\n",
    "    description='Market Selection',\n",
    "    disabled=False\n",
    ")"
   ]
  },
  {
   "cell_type": "code",
   "execution_count": 90,
   "id": "c675faef-5883-4cfa-a7a0-e0dbaef02935",
   "metadata": {
    "tags": []
   },
   "outputs": [],
   "source": [
    "ctrl_wg = widgets.HBox([btn_prev_chart, btn_next_chart, market_sel])\n",
    "ui = widgets.VBox([chart_out, ctrl_wg])"
   ]
  },
  {
   "cell_type": "code",
   "execution_count": 91,
   "id": "dd6439a3-42b5-40db-a86d-07137bb89769",
   "metadata": {
    "tags": []
   },
   "outputs": [
    {
     "data": {
      "application/vnd.jupyter.widget-view+json": {
       "model_id": "bb129a15d8aa4c21b24c19ee5f078abb",
       "version_major": 2,
       "version_minor": 0
      },
      "text/plain": [
       "VBox(children=(Output(layout=Layout(border_bottom='1px solid black', border_left='1px solid black', border_rig…"
      ]
     },
     "metadata": {},
     "output_type": "display_data"
    }
   ],
   "source": [
    "display(ui)"
   ]
  },
  {
   "cell_type": "code",
   "execution_count": null,
   "id": "7b6b3b3a-eee0-4ee9-9dff-a629b425065e",
   "metadata": {},
   "outputs": [],
   "source": []
  }
 ],
 "metadata": {
  "kernelspec": {
   "display_name": "Python 3 (ipykernel)",
   "language": "python",
   "name": "python3"
  },
  "language_info": {
   "codemirror_mode": {
    "name": "ipython",
    "version": 3
   },
   "file_extension": ".py",
   "mimetype": "text/x-python",
   "name": "python",
   "nbconvert_exporter": "python",
   "pygments_lexer": "ipython3",
   "version": "3.11.5"
  }
 },
 "nbformat": 4,
 "nbformat_minor": 5
}
