{
 "cells": [
  {
   "cell_type": "markdown",
   "id": "499a97e350a41475",
   "metadata": {
    "collapsed": false
   },
   "source": "# Update sample prices data"
  },
  {
   "cell_type": "code",
   "id": "initial_id",
   "metadata": {
    "collapsed": false,
    "ExecuteTime": {
     "end_time": "2024-06-05T12:56:06.179717Z",
     "start_time": "2024-06-05T12:56:06.140611Z"
    }
   },
   "source": [
    "import yfinance as yf\n",
    "\n",
    "from pathlib import Path\n",
    "\n",
    "ROOTDIR = Path.cwd().parent"
   ],
   "outputs": [],
   "execution_count": 64
  },
  {
   "cell_type": "code",
   "id": "d2fae6336cff11e",
   "metadata": {
    "collapsed": false,
    "ExecuteTime": {
     "end_time": "2024-06-05T12:56:06.725757Z",
     "start_time": "2024-06-05T12:56:06.709034Z"
    }
   },
   "source": [
    "from functools import lru_cache\n",
    "\n",
    "INTERVAL = dict(daily=\"1d\", hourly=\"1h\", minute=\"1m\")\n",
    "MAXPERIOD = dict(daily=\"max\", hourly=\"2Y\", minute=\"7d\")\n",
    "\n",
    "\n",
    "@lru_cache\n",
    "def get_prices(symbol: str, *, freq=\"daily\", max_bars=0):\n",
    "    interval = INTERVAL[freq]\n",
    "    period = MAXPERIOD[freq]\n",
    "    prices = yf.Ticker(symbol).history(interval=interval, period=period, auto_adjust=True)\n",
    "    prices = prices.filter([\"Open\", \"High\", \"Low\", \"Close\", \"Volume\"])\n",
    "    prices = prices.rename(columns=str.lower).rename_axis(index=str.lower)\n",
    "    \n",
    "    if freq == \"daily\":\n",
    "        prices.index = prices.index.tz_localize(None)\n",
    "    \n",
    "    if max_bars > 0:\n",
    "        prices = prices.tail(max_bars)\n",
    "    return prices\n",
    "\n"
   ],
   "outputs": [],
   "execution_count": 65
  },
  {
   "metadata": {
    "ExecuteTime": {
     "end_time": "2024-06-05T12:56:08.337782Z",
     "start_time": "2024-06-05T12:56:07.850466Z"
    }
   },
   "cell_type": "code",
   "source": [
    "SYMBOL = 'AAPL'\n",
    "prices = get_prices(SYMBOL, freq=\"daily\")"
   ],
   "id": "2fdc8807cf0e7ca6",
   "outputs": [],
   "execution_count": 66
  },
  {
   "metadata": {
    "ExecuteTime": {
     "end_time": "2024-06-05T12:56:08.946419Z",
     "start_time": "2024-06-05T12:56:08.929309Z"
    }
   },
   "cell_type": "code",
   "source": "prices.index",
   "id": "247b258ccdeca9d5",
   "outputs": [
    {
     "data": {
      "text/plain": [
       "DatetimeIndex(['1980-12-12', '1980-12-15', '1980-12-16', '1980-12-17',\n",
       "               '1980-12-18', '1980-12-19', '1980-12-22', '1980-12-23',\n",
       "               '1980-12-24', '1980-12-26',\n",
       "               ...\n",
       "               '2024-05-21', '2024-05-22', '2024-05-23', '2024-05-24',\n",
       "               '2024-05-28', '2024-05-29', '2024-05-30', '2024-05-31',\n",
       "               '2024-06-03', '2024-06-04'],\n",
       "              dtype='datetime64[ns]', name='date', length=10960, freq=None)"
      ]
     },
     "execution_count": 67,
     "metadata": {},
     "output_type": "execute_result"
    }
   ],
   "execution_count": 67
  },
  {
   "metadata": {
    "ExecuteTime": {
     "end_time": "2024-06-05T12:56:10.678335Z",
     "start_time": "2024-06-05T12:56:09.978268Z"
    }
   },
   "cell_type": "code",
   "source": [
    "for freq in INTERVAL.keys():\n",
    "    prices = get_prices(SYMBOL, freq=freq, max_bars=5000)\n",
    "    print(freq, len(prices), prices.index.dtype)\n"
   ],
   "id": "6f0b632cdec46288",
   "outputs": [
    {
     "name": "stdout",
     "output_type": "stream",
     "text": [
      "daily 5000 datetime64[ns]\n",
      "hourly 3502 datetime64[ns, America/New_York]\n",
      "minute 2728 datetime64[ns, America/New_York]\n"
     ]
    }
   ],
   "execution_count": 68
  },
  {
   "metadata": {
    "ExecuteTime": {
     "end_time": "2024-06-04T19:01:24.508Z",
     "start_time": "2024-06-04T19:01:24.361413Z"
    }
   },
   "cell_type": "code",
   "source": [
    "SAMPLES = ROOTDIR.joinpath(\"src/mplchart/samples\")\n",
    "\n",
    "for freq in INTERVAL.keys():\n",
    "    fname = f\"{freq}-prices.csv\"\n",
    "    prices = get_prices(SYMBOL, freq=freq)\n",
    "    data = prices.to_csv(lineterminator=\"\\n\")\n",
    "    outfile = SAMPLES.joinpath(fname)\n",
    "    print(f\"Updating {outfile.name} ...\")\n",
    "    outfile.write_text(data)"
   ],
   "id": "d924dbd4bb20fb39",
   "outputs": [
    {
     "name": "stdout",
     "output_type": "stream",
     "text": [
      "Updating daily-prices.csv ...\n",
      "Updating hourly-prices.csv ...\n",
      "Updating minute-prices.csv ...\n"
     ]
    }
   ],
   "execution_count": 61
  },
  {
   "cell_type": "code",
   "id": "e3ec84022210d0c0",
   "metadata": {
    "collapsed": false,
    "ExecuteTime": {
     "end_time": "2024-06-04T19:01:58.007476Z",
     "start_time": "2024-06-04T19:01:57.935963Z"
    }
   },
   "source": [
    "from mplchart.samples import sample_prices\n",
    "\n",
    "for freq in INTERVAL.keys():\n",
    "    prices = sample_prices(freq=freq, max_bars=5000)\n",
    "    print(freq, len(prices))\n"
   ],
   "outputs": [
    {
     "name": "stdout",
     "output_type": "stream",
     "text": [
      "daily 5000\n",
      "hourly 3501\n",
      "minute 2670\n"
     ]
    }
   ],
   "execution_count": 63
  },
  {
   "cell_type": "code",
   "execution_count": 16,
   "id": "8251041f1e22839",
   "metadata": {
    "ExecuteTime": {
     "end_time": "2023-09-02T14:41:31.517678Z",
     "start_time": "2023-09-02T14:41:31.510806Z"
    },
    "collapsed": false
   },
   "outputs": [],
   "source": []
  },
  {
   "cell_type": "code",
   "execution_count": null,
   "id": "425390c4ed258f9",
   "metadata": {
    "collapsed": false
   },
   "outputs": [],
   "source": []
  }
 ],
 "metadata": {
  "kernelspec": {
   "display_name": "Python 3",
   "language": "python",
   "name": "python3"
  },
  "language_info": {
   "codemirror_mode": {
    "name": "ipython",
    "version": 3
   },
   "file_extension": ".py",
   "mimetype": "text/x-python",
   "name": "python",
   "nbconvert_exporter": "python",
   "pygments_lexer": "ipython3",
   "version": "3.9.18"
  }
 },
 "nbformat": 4,
 "nbformat_minor": 5
}
