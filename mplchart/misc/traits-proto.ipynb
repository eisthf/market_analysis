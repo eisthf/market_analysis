{
 "cells": [
  {
   "cell_type": "markdown",
   "metadata": {
    "collapsed": false,
    "pycharm": {
     "name": "#%% md\n"
    }
   },
   "source": [
    "# Custom indicator example"
   ]
  },
  {
   "cell_type": "code",
   "execution_count": 11,
   "metadata": {
    "collapsed": false,
    "pycharm": {
     "name": "#%%\n"
    },
    "ExecuteTime": {
     "end_time": "2024-03-14T22:13:54.627210Z",
     "start_time": "2024-03-14T22:13:54.617547Z"
    }
   },
   "source": [
    "import logging\n",
    "import yfinance as yf\n",
    "\n",
    "from mplchart.chart import Chart\n",
    "\n",
    "from mplchart.library import get_series, calc_ema\n",
    "from mplchart.primitives import Candlesticks, OHLC, Volume\n",
    "\n",
    "from dataclasses import dataclass\n",
    "\n",
    "logging.basicConfig(level=logging.INFO)"
   ],
   "outputs": []
  },
  {
   "cell_type": "code",
   "execution_count": 12,
   "metadata": {
    "pycharm": {
     "name": "#%%\n"
    },
    "ExecuteTime": {
     "end_time": "2024-03-14T22:13:57.079343Z",
     "start_time": "2024-03-14T22:13:56.838036Z"
    }
   },
   "source": [
    "ticker = \"AAPL\"\n",
    "prices = yf.Ticker(ticker).history(period=\"5y\")\n",
    "prices"
   ],
   "outputs": []
  },
  {
   "cell_type": "code",
   "execution_count": 16,
   "metadata": {
    "collapsed": false,
    "pycharm": {
     "name": "#%%\n"
    },
    "ExecuteTime": {
     "end_time": "2024-03-14T22:14:17.302553Z",
     "start_time": "2024-03-14T22:14:17.287392Z"
    }
   },
   "source": [
    "from mplchart.utils import series_xy\n",
    "\n",
    "\n",
    "class LoggedAccess:\n",
    "    def __set_name__(self, owner, name):\n",
    "        self.name = name\n",
    "\n",
    "    def __get__(self, obj, objtype=None):\n",
    "        value = getattr(obj, self.private_name)\n",
    "        logging.info('Accessing %r giving %r', self.public_name, value)\n",
    "        return value\n",
    "\n",
    "    def __set__(self, obj, value):\n",
    "        logging.info('Updating %r to %r', self.public_name, value)\n",
    "        setattr(obj, self.private_name, value)\n",
    "\n",
    "@dataclass\n",
    "class DEMA:\n",
    "    \"\"\"Double Exponential Moving Average\"\"\"\n",
    "\n",
    "    period: int = 20\n",
    "\n",
    "    same_scale = True\n",
    "    # same_scale is an optional class attribute\n",
    "    # to specify that the indicator can be drawn\n",
    "    # on the same axes as the previous indicator\n",
    "\n",
    "    def __call__(self, prices):\n",
    "        series = get_series(prices)\n",
    "        ema1 = calc_ema(series, self.period)\n",
    "        ema2 = calc_ema(ema1, self.period)\n",
    "        return 2 * ema1 - ema2\n",
    "    \n",
    "    def plot_result(self, data, chart, ax=None):\n",
    "        logging.info(\"plot_result\")\n",
    "        \n",
    "        if ax is None:\n",
    "            ax = chart.get_axes(\"samex\")\n",
    "\n",
    "        label = repr(self)\n",
    "        xv, yv = series_xy(data)\n",
    "\n",
    "        ax.plot(xv, yv, label=label)\n",
    "\n",
    "\n",
    "            "
   ],
   "outputs": []
  },
  {
   "cell_type": "code",
   "execution_count": 17,
   "metadata": {
    "collapsed": false,
    "pycharm": {
     "name": "#%%\n"
    },
    "ExecuteTime": {
     "end_time": "2024-03-14T22:14:17.783344Z",
     "start_time": "2024-03-14T22:14:17.760158Z"
    }
   },
   "source": [
    "res = DEMA(20)(prices)\n",
    "res.tail()"
   ],
   "outputs": []
  },
  {
   "cell_type": "code",
   "execution_count": 18,
   "metadata": {
    "collapsed": false,
    "pycharm": {
     "name": "#%%\n"
    },
    "ExecuteTime": {
     "end_time": "2024-03-14T22:14:18.797616Z",
     "start_time": "2024-03-14T22:14:18.497517Z"
    }
   },
   "source": [
    "max_bars = 250\n",
    "\n",
    "indicators = [\n",
    "    OHLC(),\n",
    "    DEMA(20),\n",
    "]\n",
    "\n",
    "chart = Chart(title=ticker, max_bars=max_bars)\n",
    "chart.plot(prices, indicators)"
   ],
   "outputs": []
  },
  {
   "cell_type": "code",
   "execution_count": null,
   "metadata": {
    "collapsed": false,
    "pycharm": {
     "name": "#%%\n"
    }
   },
   "source": [],
   "outputs": []
  }
 ],
 "metadata": {
  "kernelspec": {
   "display_name": "Python 3 (ipykernel)",
   "language": "python",
   "name": "python3"
  },
  "language_info": {
   "codemirror_mode": {
    "name": "ipython",
    "version": 3
   },
   "file_extension": ".py",
   "mimetype": "text/x-python",
   "name": "python",
   "nbconvert_exporter": "python",
   "pygments_lexer": "ipython3",
   "version": "3.9.18"
  }
 },
 "nbformat": 4,
 "nbformat_minor": 1
}
