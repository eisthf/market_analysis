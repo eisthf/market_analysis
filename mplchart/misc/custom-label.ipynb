{
 "cells": [
  {
   "cell_type": "code",
   "id": "6c7eafeb028e7924",
   "metadata": {
    "collapsed": true,
    "ExecuteTime": {
     "end_time": "2024-06-08T19:46:31.164857Z",
     "start_time": "2024-06-08T19:46:31.157829Z"
    }
   },
   "source": [
    "def custom_label(obj, **params) -> str:\n",
    "    \"\"\" custom object label according to params\n",
    "        param = None for required/positional params\n",
    "        param = <default> for optional/keyword params\n",
    "    \"\"\"\n",
    "    cname = obj.__class__.__name__\n",
    "    args, kw_only = [], False\n",
    "    for k, v in params.items():\n",
    "        value = getattr(obj, k, v)\n",
    "        if value is None or v is not None:\n",
    "            kw_only = True\n",
    "        if not kw_only:\n",
    "            args.append(f\"{value!r}\")\n",
    "        elif value != v:\n",
    "            args.append(f\"{k}={value!r}\")\n",
    "    args = \", \".join(args)\n",
    "    return f\"{cname}({args})\"\n",
    "\n",
    "\n"
   ],
   "outputs": [],
   "execution_count": 16
  },
  {
   "metadata": {
    "ExecuteTime": {
     "end_time": "2024-06-08T19:46:31.611825Z",
     "start_time": "2024-06-08T19:46:31.596358Z"
    }
   },
   "cell_type": "code",
   "source": [
    "from dataclasses import dataclass, field\n",
    "\n",
    "\n",
    "@dataclass(frozen=True)\n",
    "class EMA:\n",
    "    period: int = 20\n",
    "    item: str = field(default=None)\n",
    "\n",
    "    def __str__(self) -> str:\n",
    "        return custom_label(self, period=None)\n",
    "\n",
    "ema = EMA(20, item=\"close\")\n",
    "\n",
    "print(ema)\n",
    "\n"
   ],
   "id": "378856a846836d89",
   "outputs": [
    {
     "name": "stdout",
     "output_type": "stream",
     "text": [
      "EMA(20)\n"
     ]
    }
   ],
   "execution_count": 17
  },
  {
   "metadata": {},
   "cell_type": "code",
   "outputs": [],
   "execution_count": null,
   "source": "",
   "id": "24acdbaec6406b4e"
  }
 ],
 "metadata": {
  "kernelspec": {
   "display_name": "Python 3",
   "language": "python",
   "name": "python3"
  },
  "language_info": {
   "codemirror_mode": {
    "name": "ipython",
    "version": 2
   },
   "file_extension": ".py",
   "mimetype": "text/x-python",
   "name": "python",
   "nbconvert_exporter": "python",
   "pygments_lexer": "ipython2",
   "version": "2.7.6"
  }
 },
 "nbformat": 4,
 "nbformat_minor": 5
}
