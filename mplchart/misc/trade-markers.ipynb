{
 "cells": [
  {
   "cell_type": "markdown",
   "metadata": {
    "collapsed": false,
    "pycharm": {
     "name": "#%% md\n"
    }
   },
   "source": [
    "# Trade markers\n"
   ]
  },
  {
   "cell_type": "code",
   "execution_count": 1,
   "metadata": {
    "collapsed": false,
    "pycharm": {
     "name": "#%%\n"
    },
    "ExecuteTime": {
     "end_time": "2024-03-15T20:47:42.563462Z",
     "start_time": "2024-03-15T20:47:42.014974Z"
    }
   },
   "source": [
    "import yfinance as yf\n",
    "\n",
    "from mplchart.chart import Chart\n",
    "\n",
    "from mplchart.primitives import Candlesticks, Volume, TradeMarker, TradeSpan\n",
    "\n",
    "from mplchart.indicators import SMA, EMA, RSI, MACD, PPO"
   ],
   "outputs": []
  },
  {
   "cell_type": "code",
   "execution_count": 2,
   "metadata": {
    "collapsed": false,
    "pycharm": {
     "name": "#%%\n"
    },
    "ExecuteTime": {
     "end_time": "2024-03-15T20:47:43.561369Z",
     "start_time": "2024-03-15T20:47:43.188433Z"
    }
   },
   "source": [
    "ticker = \"AAPL\"\n",
    "prices = yf.Ticker(ticker).history(period=\"5y\")\n",
    "prices"
   ],
   "outputs": []
  },
  {
   "cell_type": "markdown",
   "metadata": {
    "collapsed": false,
    "pycharm": {
     "name": "#%% md\n"
    }
   },
   "source": [
    "TradeMarker will show the performance of a position as calculated as an expression over to the previous indicator.\n",
    "This currently works only for a few indicatores like MACD, PPO, ...\n",
    "\n"
   ]
  },
  {
   "cell_type": "code",
   "execution_count": 3,
   "metadata": {
    "collapsed": false,
    "pycharm": {
     "name": "#%%\n"
    },
    "ExecuteTime": {
     "end_time": "2024-03-15T20:47:47.464318Z",
     "start_time": "2024-03-15T20:47:46.637056Z"
    }
   },
   "source": [
    "max_bars = 250\n",
    "indicators = [\n",
    "    Candlesticks(),\n",
    "    SMA(50),\n",
    "    SMA(200),\n",
    "    Volume(),\n",
    "    RSI(),\n",
    "    MACD(),\n",
    "    TradeMarker(\"macdhist>0\"),\n",
    "]\n",
    "\n",
    "chart = Chart(title=ticker, max_bars=max_bars)\n",
    "chart.plot(prices, indicators)"
   ],
   "outputs": []
  },
  {
   "cell_type": "markdown",
   "metadata": {
    "collapsed": false,
    "pycharm": {
     "name": "#%% md\n"
    }
   },
   "source": [
    "TradeSpan will show the span of a position as calculated by an expression over to the previous indicator.\n",
    "This currently works for a few indicatores like MACD, PPO, ...\n"
   ]
  },
  {
   "cell_type": "code",
   "execution_count": 4,
   "metadata": {
    "collapsed": false,
    "pycharm": {
     "name": "#%%\n"
    },
    "ExecuteTime": {
     "end_time": "2024-03-15T20:47:52.317649Z",
     "start_time": "2024-03-15T20:47:51.498438Z"
    }
   },
   "source": [
    "max_bars = 250\n",
    "indicators = [\n",
    "    Candlesticks(),\n",
    "    SMA(50),\n",
    "    SMA(200),\n",
    "    Volume(),\n",
    "    RSI(),\n",
    "    MACD(),\n",
    "    TradeSpan(\"macdhist>0\"),\n",
    "]\n",
    "\n",
    "chart = Chart(title=ticker, max_bars=max_bars)\n",
    "chart.plot(prices, indicators)"
   ],
   "outputs": []
  },
  {
   "cell_type": "code",
   "execution_count": 4,
   "metadata": {
    "ExecuteTime": {
     "end_time": "2023-11-13T21:25:24.418009Z",
     "start_time": "2023-11-13T21:25:24.415396Z"
    },
    "collapsed": false
   },
   "source": [],
   "outputs": []
  },
  {
   "cell_type": "code",
   "execution_count": null,
   "metadata": {
    "collapsed": false
   },
   "source": [],
   "outputs": []
  }
 ],
 "metadata": {
  "kernelspec": {
   "display_name": "Python 3",
   "language": "python",
   "name": "python3"
  },
  "language_info": {
   "codemirror_mode": {
    "name": "ipython",
    "version": 3
   },
   "file_extension": ".py",
   "mimetype": "text/x-python",
   "name": "python",
   "nbconvert_exporter": "python",
   "pygments_lexer": "ipython3",
   "version": "3.8.8"
  }
 },
 "nbformat": 4,
 "nbformat_minor": 1
}
