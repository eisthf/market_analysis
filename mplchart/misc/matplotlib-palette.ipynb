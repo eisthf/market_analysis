{
 "cells": [
  {
   "cell_type": "code",
   "execution_count": 21,
   "id": "a107dd8ac36a6fb2",
   "metadata": {
    "collapsed": false,
    "ExecuteTime": {
     "end_time": "2024-03-15T17:32:44.451796Z",
     "start_time": "2024-03-15T17:32:44.443244Z"
    }
   },
   "source": [
    "import numpy as np\n",
    "import matplotlib as mpl\n",
    "import matplotlib.pyplot as plt\n",
    "\n",
    "from matplotlib_inline.backend_inline import set_matplotlib_formats\n",
    "\n",
    "set_matplotlib_formats(\"svg\")"
   ],
   "outputs": []
  },
  {
   "cell_type": "code",
   "source": [
    "mpl.style.available"
   ],
   "metadata": {
    "collapsed": false,
    "ExecuteTime": {
     "end_time": "2024-03-15T17:32:44.861837Z",
     "start_time": "2024-03-15T17:32:44.853981Z"
    }
   },
   "id": "1fd95b93eede606f",
   "execution_count": 22,
   "outputs": []
  },
  {
   "cell_type": "code",
   "source": [
    "def plot_colors(colors, title=None, *, ax=None):\n",
    "    if ax is None:\n",
    "        fig, ax = plt.subplots() \n",
    "\n",
    "    if title is not None:\n",
    "        ax.set_title(title)\n",
    "\n",
    "    th = np.linspace(0, 2*np.pi, 512)\n",
    "\n",
    "    for j, c in enumerate(colors):\n",
    "        v_offset = -(j / len(colors))\n",
    "        ax.plot(th, .1*np.sin(th) + v_offset, color=c, linewidth=3)\n",
    "        ax.annotate(\"'C{}'\".format(j), (0, v_offset),\n",
    "                    xytext=(-1.5, 0),\n",
    "                    ha='right',\n",
    "                    va='center',\n",
    "                    color=c,\n",
    "                    textcoords='offset points',\n",
    "                    family='monospace')\n",
    "\n",
    "        ax.annotate(\"{!r}\".format(c), (2*np.pi, v_offset),\n",
    "                    xytext=(1.5, 0),\n",
    "                    ha='left',\n",
    "                    va='center',\n",
    "                    color=c,\n",
    "                    textcoords='offset points',\n",
    "                    family='monospace')\n",
    "    ax.axis('off')\n",
    "\n"
   ],
   "metadata": {
    "collapsed": false,
    "ExecuteTime": {
     "end_time": "2024-03-15T17:32:45.508378Z",
     "start_time": "2024-03-15T17:32:45.498988Z"
    }
   },
   "id": "a20fa20f9006b5f7",
   "execution_count": 23,
   "outputs": []
  },
  {
   "cell_type": "code",
   "source": [
    "classic_colors = ['b', 'g', 'r', 'c', 'm', 'y', 'k']\n",
    "plot_colors(classic_colors, 'classic')"
   ],
   "metadata": {
    "collapsed": false,
    "ExecuteTime": {
     "end_time": "2024-03-15T17:32:46.367208Z",
     "start_time": "2024-03-15T17:32:46.324329Z"
    }
   },
   "id": "55e6b9af85f83ec5",
   "execution_count": 24,
   "outputs": []
  },
  {
   "cell_type": "code",
   "source": [
    "new_colors = ['#1f77b4', '#ff7f0e', '#2ca02c', '#d62728',\n",
    "              '#9467bd', '#8c564b', '#e377c2', '#7f7f7f',\n",
    "              '#bcbd22', '#17becf']\n",
    "\n",
    "plot_colors(new_colors, 'v2.0')\n"
   ],
   "metadata": {
    "collapsed": false,
    "ExecuteTime": {
     "end_time": "2024-03-15T17:32:47.123995Z",
     "start_time": "2024-03-15T17:32:47.058822Z"
    }
   },
   "id": "e700b4270c3e4c69",
   "execution_count": 25,
   "outputs": []
  },
  {
   "cell_type": "code",
   "source": [
    "colors = plt.rcParams['axes.prop_cycle'].by_key()['color']\n",
    "\n",
    "plot_colors(colors, 'current')"
   ],
   "metadata": {
    "collapsed": false,
    "ExecuteTime": {
     "end_time": "2024-03-15T17:32:47.892792Z",
     "start_time": "2024-03-15T17:32:47.829683Z"
    }
   },
   "id": "2ef0615e317bfeac",
   "execution_count": 26,
   "outputs": []
  },
  {
   "cell_type": "code",
   "source": [
    "name = 'ggplot'\n",
    "\n",
    "plt.style.use(name)\n",
    "\n",
    "colors = plt.rcParams['axes.prop_cycle'].by_key()['color']\n",
    "\n",
    "plot_colors(colors, name)"
   ],
   "metadata": {
    "collapsed": false,
    "ExecuteTime": {
     "end_time": "2024-03-15T17:32:48.722697Z",
     "start_time": "2024-03-15T17:32:48.672218Z"
    }
   },
   "id": "4f5cd0d0c6cb2994",
   "execution_count": 27,
   "outputs": []
  },
  {
   "cell_type": "code",
   "source": [
    "for name in mpl.style.available:\n",
    "    print(name)\n",
    "    plt.style.use(name)\n",
    "    colors = plt.rcParams['axes.prop_cycle'].by_key()['color']\n",
    "    plot_colors(colors, name)    "
   ],
   "metadata": {
    "collapsed": false,
    "ExecuteTime": {
     "end_time": "2024-03-15T17:32:50.581565Z",
     "start_time": "2024-03-15T17:32:49.543189Z"
    }
   },
   "id": "2e858e259f9d2605",
   "execution_count": 28,
   "outputs": []
  },
  {
   "cell_type": "code",
   "source": [],
   "metadata": {
    "collapsed": false
   },
   "id": "3498576dc8ad2272",
   "execution_count": null,
   "outputs": []
  }
 ],
 "metadata": {
  "kernelspec": {
   "display_name": "Python 3",
   "language": "python",
   "name": "python3"
  },
  "language_info": {
   "codemirror_mode": {
    "name": "ipython",
    "version": 2
   },
   "file_extension": ".py",
   "mimetype": "text/x-python",
   "name": "python",
   "nbconvert_exporter": "python",
   "pygments_lexer": "ipython2",
   "version": "2.7.6"
  }
 },
 "nbformat": 4,
 "nbformat_minor": 5
}
