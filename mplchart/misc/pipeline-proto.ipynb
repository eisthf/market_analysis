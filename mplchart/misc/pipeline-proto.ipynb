{
 "cells": [
  {
   "metadata": {
    "ExecuteTime": {
     "end_time": "2024-06-08T19:36:25.178577Z",
     "start_time": "2024-06-08T19:36:25.166589Z"
    }
   },
   "cell_type": "code",
   "source": [
    "class Pipeline(tuple):\n",
    "    def __new__(cls, *args):\n",
    "        for arg in args:\n",
    "            if not callable(arg):\n",
    "                raise TypeError(f\"Argument {arg!r} is not callable\")\n",
    "\n",
    "        return tuple.__new__(cls, args)\n",
    "\n",
    "    def __repr__(self):\n",
    "        return \" | \".join(repr(f) for f in self)\n",
    "\n",
    "    def __or__(self, other):\n",
    "        if not callable(other):\n",
    "            return NotImplemented\n",
    "        return self.__class__(*self, other)\n",
    "\n",
    "    def __call__(self, prices):\n",
    "        result = prices\n",
    "        for func in self:\n",
    "            result = func(prices)\n",
    "        return result\n",
    "\n",
    "    class Mixin:\n",
    "        def __or__(self, other):\n",
    "            if not callable(self):\n",
    "                raise TypeError(f\"Argument {self!r} is not callable\")\n",
    "            if not callable(other):\n",
    "                return NotImplemented\n",
    "            return Pipeline(self, other)\n"
   ],
   "id": "77b334a8d7269be0",
   "outputs": [],
   "execution_count": 11
  },
  {
   "metadata": {
    "ExecuteTime": {
     "end_time": "2024-06-08T19:36:25.514269Z",
     "start_time": "2024-06-08T19:36:25.496894Z"
    }
   },
   "cell_type": "code",
   "source": [
    "\n",
    "from dataclasses import dataclass, field\n",
    "\n",
    "\n",
    "@dataclass(frozen=True)\n",
    "class EMA(Pipeline.Mixin):\n",
    "    period: int = 20\n",
    "    item: str = field(default=None)\n",
    "\n",
    "    def __call__(self, prices):\n",
    "        print(\"__call__\", self)\n",
    "        return prices\n",
    "\n",
    "\n",
    "ema = EMA(20)\n",
    "ema\n",
    "\n"
   ],
   "id": "378856a846836d89",
   "outputs": [
    {
     "data": {
      "text/plain": [
       "EMA(period=20, item=None)"
      ]
     },
     "execution_count": 12,
     "metadata": {},
     "output_type": "execute_result"
    }
   ],
   "execution_count": 12
  },
  {
   "metadata": {
    "ExecuteTime": {
     "end_time": "2024-06-08T19:36:26.549882Z",
     "start_time": "2024-06-08T19:36:26.534857Z"
    }
   },
   "cell_type": "code",
   "source": [
    "ema2 = EMA() | EMA()\n",
    "ema2(0)\n"
   ],
   "id": "210abb08e51573e0",
   "outputs": [
    {
     "name": "stdout",
     "output_type": "stream",
     "text": [
      "__call__ EMA(period=20, item=None)\n",
      "__call__ EMA(period=20, item=None)\n"
     ]
    },
    {
     "data": {
      "text/plain": [
       "0"
      ]
     },
     "execution_count": 13,
     "metadata": {},
     "output_type": "execute_result"
    }
   ],
   "execution_count": 13
  },
  {
   "metadata": {},
   "cell_type": "code",
   "outputs": [],
   "execution_count": null,
   "source": "",
   "id": "432bedb9e1d0b8be"
  }
 ],
 "metadata": {
  "kernelspec": {
   "display_name": "Python 3",
   "language": "python",
   "name": "python3"
  },
  "language_info": {
   "codemirror_mode": {
    "name": "ipython",
    "version": 2
   },
   "file_extension": ".py",
   "mimetype": "text/x-python",
   "name": "python",
   "nbconvert_exporter": "python",
   "pygments_lexer": "ipython2",
   "version": "2.7.6"
  }
 },
 "nbformat": 4,
 "nbformat_minor": 5
}
