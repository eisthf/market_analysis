{
 "cells": [
  {
   "cell_type": "code",
   "id": "initial_id",
   "metadata": {
    "collapsed": true,
    "ExecuteTime": {
     "end_time": "2024-06-05T21:37:15.512548Z",
     "start_time": "2024-06-05T21:37:15.487042Z"
    }
   },
   "source": "from mplchart.samples import sample_prices\n",
   "outputs": [],
   "execution_count": 98
  },
  {
   "cell_type": "code",
   "source": [
    "for freq in \"daily\", \"hourly\", \"minute\":\n",
    "    prices = sample_prices(freq)\n",
    "    index = prices.index\n",
    "    print(freq, len(prices), index.dtype)\n",
    "    "
   ],
   "metadata": {
    "collapsed": false,
    "ExecuteTime": {
     "end_time": "2024-06-05T21:37:16.250234Z",
     "start_time": "2024-06-05T21:37:16.178336Z"
    }
   },
   "id": "4487e7a059c8853a",
   "outputs": [
    {
     "name": "stdout",
     "output_type": "stream",
     "text": [
      "daily 10960 datetime64[ns]\n",
      "hourly 3501 datetime64[ns, America/New_York]\n",
      "minute 2670 datetime64[ns, America/New_York]\n"
     ]
    }
   ],
   "execution_count": 99
  },
  {
   "metadata": {
    "ExecuteTime": {
     "end_time": "2024-06-05T21:37:18.635923Z",
     "start_time": "2024-06-05T21:37:18.577659Z"
    }
   },
   "cell_type": "code",
   "source": [
    "prices = sample_prices(freq=\"hourly\")\n",
    "prices"
   ],
   "id": "445b311d94c47e8a",
   "outputs": [
    {
     "data": {
      "text/plain": [
       "                                 open        high         low       close  \\\n",
       "datetime                                                                    \n",
       "2022-06-06 09:30:00-04:00  147.029999  148.440002  147.029999  148.210007   \n",
       "2022-06-06 10:30:00-04:00  148.210007  148.568893  146.009995  146.559097   \n",
       "2022-06-06 11:30:00-04:00  146.559998  146.800003  145.399994  145.580002   \n",
       "2022-06-06 12:30:00-04:00  145.580002  146.229996  145.199997  145.880096   \n",
       "2022-06-06 13:30:00-04:00  145.870102  146.889999  145.660004  145.759995   \n",
       "...                               ...         ...         ...         ...   \n",
       "2024-06-04 10:30:00-04:00  194.024994  194.399994  193.660004  194.050003   \n",
       "2024-06-04 11:30:00-04:00  194.054993  194.490005  193.714996  194.470001   \n",
       "2024-06-04 12:30:00-04:00  194.470001  194.820007  194.339996  194.804993   \n",
       "2024-06-04 13:30:00-04:00  194.809998  195.320007  194.410004  195.235001   \n",
       "2024-06-04 14:30:00-04:00  195.229996  195.320007  194.479996  194.479996   \n",
       "\n",
       "                             volume  \n",
       "datetime                             \n",
       "2022-06-06 09:30:00-04:00  17131905  \n",
       "2022-06-06 10:30:00-04:00  10939649  \n",
       "2022-06-06 11:30:00-04:00   7207127  \n",
       "2022-06-06 12:30:00-04:00   6199590  \n",
       "2022-06-06 13:30:00-04:00   6957203  \n",
       "...                             ...  \n",
       "2024-06-04 10:30:00-04:00   5032304  \n",
       "2024-06-04 11:30:00-04:00   3593838  \n",
       "2024-06-04 12:30:00-04:00   3308960  \n",
       "2024-06-04 13:30:00-04:00   5053574  \n",
       "2024-06-04 14:30:00-04:00   2000123  \n",
       "\n",
       "[3501 rows x 5 columns]"
      ],
      "text/html": [
       "<div>\n",
       "<style scoped>\n",
       "    .dataframe tbody tr th:only-of-type {\n",
       "        vertical-align: middle;\n",
       "    }\n",
       "\n",
       "    .dataframe tbody tr th {\n",
       "        vertical-align: top;\n",
       "    }\n",
       "\n",
       "    .dataframe thead th {\n",
       "        text-align: right;\n",
       "    }\n",
       "</style>\n",
       "<table border=\"1\" class=\"dataframe\">\n",
       "  <thead>\n",
       "    <tr style=\"text-align: right;\">\n",
       "      <th></th>\n",
       "      <th>open</th>\n",
       "      <th>high</th>\n",
       "      <th>low</th>\n",
       "      <th>close</th>\n",
       "      <th>volume</th>\n",
       "    </tr>\n",
       "    <tr>\n",
       "      <th>datetime</th>\n",
       "      <th></th>\n",
       "      <th></th>\n",
       "      <th></th>\n",
       "      <th></th>\n",
       "      <th></th>\n",
       "    </tr>\n",
       "  </thead>\n",
       "  <tbody>\n",
       "    <tr>\n",
       "      <th>2022-06-06 09:30:00-04:00</th>\n",
       "      <td>147.029999</td>\n",
       "      <td>148.440002</td>\n",
       "      <td>147.029999</td>\n",
       "      <td>148.210007</td>\n",
       "      <td>17131905</td>\n",
       "    </tr>\n",
       "    <tr>\n",
       "      <th>2022-06-06 10:30:00-04:00</th>\n",
       "      <td>148.210007</td>\n",
       "      <td>148.568893</td>\n",
       "      <td>146.009995</td>\n",
       "      <td>146.559097</td>\n",
       "      <td>10939649</td>\n",
       "    </tr>\n",
       "    <tr>\n",
       "      <th>2022-06-06 11:30:00-04:00</th>\n",
       "      <td>146.559998</td>\n",
       "      <td>146.800003</td>\n",
       "      <td>145.399994</td>\n",
       "      <td>145.580002</td>\n",
       "      <td>7207127</td>\n",
       "    </tr>\n",
       "    <tr>\n",
       "      <th>2022-06-06 12:30:00-04:00</th>\n",
       "      <td>145.580002</td>\n",
       "      <td>146.229996</td>\n",
       "      <td>145.199997</td>\n",
       "      <td>145.880096</td>\n",
       "      <td>6199590</td>\n",
       "    </tr>\n",
       "    <tr>\n",
       "      <th>2022-06-06 13:30:00-04:00</th>\n",
       "      <td>145.870102</td>\n",
       "      <td>146.889999</td>\n",
       "      <td>145.660004</td>\n",
       "      <td>145.759995</td>\n",
       "      <td>6957203</td>\n",
       "    </tr>\n",
       "    <tr>\n",
       "      <th>...</th>\n",
       "      <td>...</td>\n",
       "      <td>...</td>\n",
       "      <td>...</td>\n",
       "      <td>...</td>\n",
       "      <td>...</td>\n",
       "    </tr>\n",
       "    <tr>\n",
       "      <th>2024-06-04 10:30:00-04:00</th>\n",
       "      <td>194.024994</td>\n",
       "      <td>194.399994</td>\n",
       "      <td>193.660004</td>\n",
       "      <td>194.050003</td>\n",
       "      <td>5032304</td>\n",
       "    </tr>\n",
       "    <tr>\n",
       "      <th>2024-06-04 11:30:00-04:00</th>\n",
       "      <td>194.054993</td>\n",
       "      <td>194.490005</td>\n",
       "      <td>193.714996</td>\n",
       "      <td>194.470001</td>\n",
       "      <td>3593838</td>\n",
       "    </tr>\n",
       "    <tr>\n",
       "      <th>2024-06-04 12:30:00-04:00</th>\n",
       "      <td>194.470001</td>\n",
       "      <td>194.820007</td>\n",
       "      <td>194.339996</td>\n",
       "      <td>194.804993</td>\n",
       "      <td>3308960</td>\n",
       "    </tr>\n",
       "    <tr>\n",
       "      <th>2024-06-04 13:30:00-04:00</th>\n",
       "      <td>194.809998</td>\n",
       "      <td>195.320007</td>\n",
       "      <td>194.410004</td>\n",
       "      <td>195.235001</td>\n",
       "      <td>5053574</td>\n",
       "    </tr>\n",
       "    <tr>\n",
       "      <th>2024-06-04 14:30:00-04:00</th>\n",
       "      <td>195.229996</td>\n",
       "      <td>195.320007</td>\n",
       "      <td>194.479996</td>\n",
       "      <td>194.479996</td>\n",
       "      <td>2000123</td>\n",
       "    </tr>\n",
       "  </tbody>\n",
       "</table>\n",
       "<p>3501 rows × 5 columns</p>\n",
       "</div>"
      ]
     },
     "execution_count": 100,
     "metadata": {},
     "output_type": "execute_result"
    }
   ],
   "execution_count": 100
  },
  {
   "metadata": {},
   "cell_type": "code",
   "outputs": [],
   "execution_count": null,
   "source": "",
   "id": "dcfd4475345fb491"
  }
 ],
 "metadata": {
  "kernelspec": {
   "display_name": "Python 3",
   "language": "python",
   "name": "python3"
  },
  "language_info": {
   "codemirror_mode": {
    "name": "ipython",
    "version": 2
   },
   "file_extension": ".py",
   "mimetype": "text/x-python",
   "name": "python",
   "nbconvert_exporter": "python",
   "pygments_lexer": "ipython2",
   "version": "2.7.6"
  }
 },
 "nbformat": 4,
 "nbformat_minor": 5
}
