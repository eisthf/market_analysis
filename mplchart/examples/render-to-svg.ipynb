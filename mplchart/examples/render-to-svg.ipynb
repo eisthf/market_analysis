{
 "cells": [
  {
   "cell_type": "markdown",
   "metadata": {
    "collapsed": false,
    "pycharm": {
     "name": "#%% md\n"
    }
   },
   "source": [
    "# Render chart to SVG"
   ]
  },
  {
   "cell_type": "code",
   "execution_count": 1,
   "metadata": {
    "collapsed": false,
    "pycharm": {
     "name": "#%%\n"
    },
    "ExecuteTime": {
     "end_time": "2024-03-15T20:47:00.451434Z",
     "start_time": "2024-03-15T20:46:59.903737Z"
    }
   },
   "source": [
    "import yfinance as yf\n",
    "\n",
    "from mplchart.chart import Chart\n",
    "from mplchart.primitives import Candlesticks, Volume\n",
    "from mplchart.indicators import SMA, RSI, MACD\n",
    "\n",
    "from matplotlib_inline.backend_inline import set_matplotlib_formats\n",
    "\n",
    "set_matplotlib_formats(\"svg\")"
   ],
   "outputs": []
  },
  {
   "cell_type": "code",
   "execution_count": 4,
   "metadata": {
    "pycharm": {
     "name": "#%%\n"
    },
    "ExecuteTime": {
     "end_time": "2024-03-15T20:47:30.011437Z",
     "start_time": "2024-03-15T20:47:29.870384Z"
    }
   },
   "source": [
    "ticker = \"AAPL\"\n",
    "prices = yf.Ticker(ticker).history(period=\"5y\")\n",
    "prices"
   ],
   "outputs": []
  },
  {
   "cell_type": "code",
   "execution_count": 3,
   "metadata": {
    "pycharm": {
     "name": "#%%\n"
    },
    "ExecuteTime": {
     "end_time": "2024-03-15T20:47:03.982688Z",
     "start_time": "2024-03-15T20:47:03.274533Z"
    }
   },
   "source": [
    "max_bars = 250\n",
    "\n",
    "indicators = [\n",
    "    Candlesticks(),\n",
    "    SMA(50),\n",
    "    SMA(200),\n",
    "    Volume(),\n",
    "    RSI(),\n",
    "    MACD(),\n",
    "]\n",
    "\n",
    "chart = Chart(title=ticker, max_bars=max_bars)\n",
    "chart.plot(prices, indicators)"
   ],
   "outputs": []
  },
  {
   "cell_type": "code",
   "execution_count": 4,
   "metadata": {
    "ExecuteTime": {
     "end_time": "2023-12-15T22:00:05.339488Z",
     "start_time": "2023-12-15T22:00:04.946722Z"
    },
    "collapsed": false,
    "pycharm": {
     "name": "#%%\n"
    }
   },
   "source": [
    "svg = chart.render(\"svg\")\n",
    "print(svg[:256], \"...\")"
   ],
   "outputs": []
  },
  {
   "cell_type": "code",
   "execution_count": null,
   "metadata": {
    "collapsed": false,
    "pycharm": {
     "name": "#%%\n"
    }
   },
   "source": [],
   "outputs": []
  }
 ],
 "metadata": {
  "kernelspec": {
   "display_name": "Python 3 (ipykernel)",
   "language": "python",
   "name": "python3"
  },
  "language_info": {
   "codemirror_mode": {
    "name": "ipython",
    "version": 3
   },
   "file_extension": ".py",
   "mimetype": "text/x-python",
   "name": "python",
   "nbconvert_exporter": "python",
   "pygments_lexer": "ipython3",
   "version": "3.8.13"
  }
 },
 "nbformat": 4,
 "nbformat_minor": 1
}
