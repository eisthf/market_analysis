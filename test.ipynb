{
 "cells": [
  {
   "cell_type": "code",
   "execution_count": 1,
   "id": "c2ed4df8-bf0c-46de-bee6-a1f5145a47bd",
   "metadata": {
    "tags": []
   },
   "outputs": [],
   "source": [
    "import importlib\n",
    "import numpy as np\n",
    "import market\n",
    "importlib.reload(market)\n",
    "import ipywidgets as widgets\n",
    "from market import strong_stocks, get_ohlc"
   ]
  },
  {
   "cell_type": "code",
   "execution_count": 2,
   "id": "d5224cae-a0ec-475d-ab5d-a28ee392ba83",
   "metadata": {
    "tags": []
   },
   "outputs": [
    {
     "name": "stderr",
     "output_type": "stream",
     "text": [
      "100%|████████████████████████████████████████████████████████████████████████████████| 958/958 [00:18<00:00, 50.82it/s]\n"
     ]
    }
   ],
   "source": [
    "ks_rate, df_ks = strong_stocks('kospi')"
   ]
  },
  {
   "cell_type": "code",
   "execution_count": 3,
   "id": "b11ee8c6-a9af-41a5-8df2-951f549981b0",
   "metadata": {
    "tags": []
   },
   "outputs": [
    {
     "name": "stderr",
     "output_type": "stream",
     "text": [
      "100%|██████████████████████████████████████████████████████████████████████████████| 1746/1746 [00:35<00:00, 48.54it/s]\n"
     ]
    }
   ],
   "source": [
    "kq_rate, df_kq = strong_stocks('kosdaq')"
   ]
  },
  {
   "cell_type": "code",
   "execution_count": 4,
   "id": "7318aaa6-a269-45a1-bfeb-edc0a3ed60bb",
   "metadata": {
    "tags": []
   },
   "outputs": [
    {
     "data": {
      "text/plain": [
       "(28, 3)"
      ]
     },
     "execution_count": 4,
     "metadata": {},
     "output_type": "execute_result"
    }
   ],
   "source": [
    "df_ks.query(f'40 < rate < 50 and marcap > 100000000000').shape"
   ]
  },
  {
   "cell_type": "code",
   "execution_count": 5,
   "id": "45c75ac3-3e39-48d7-b9b0-cec17afa42ea",
   "metadata": {},
   "outputs": [
    {
     "data": {
      "text/html": [
       "<div>\n",
       "<style scoped>\n",
       "    .dataframe tbody tr th:only-of-type {\n",
       "        vertical-align: middle;\n",
       "    }\n",
       "\n",
       "    .dataframe tbody tr th {\n",
       "        vertical-align: top;\n",
       "    }\n",
       "\n",
       "    .dataframe thead th {\n",
       "        text-align: right;\n",
       "    }\n",
       "</style>\n",
       "<table border=\"1\" class=\"dataframe\">\n",
       "  <thead>\n",
       "    <tr style=\"text-align: right;\">\n",
       "      <th></th>\n",
       "      <th>code</th>\n",
       "      <th>rate</th>\n",
       "      <th>marcap</th>\n",
       "    </tr>\n",
       "  </thead>\n",
       "  <tbody>\n",
       "    <tr>\n",
       "      <th>0</th>\n",
       "      <td>000100</td>\n",
       "      <td>72.810841</td>\n",
       "      <td>7282983011200</td>\n",
       "    </tr>\n",
       "    <tr>\n",
       "      <th>1</th>\n",
       "      <td>000105</td>\n",
       "      <td>33.024119</td>\n",
       "      <td>84673398000</td>\n",
       "    </tr>\n",
       "    <tr>\n",
       "      <th>2</th>\n",
       "      <td>000120</td>\n",
       "      <td>37.327824</td>\n",
       "      <td>2274390696800</td>\n",
       "    </tr>\n",
       "    <tr>\n",
       "      <th>3</th>\n",
       "      <td>000150</td>\n",
       "      <td>106.796117</td>\n",
       "      <td>2463703798500</td>\n",
       "    </tr>\n",
       "    <tr>\n",
       "      <th>4</th>\n",
       "      <td>000155</td>\n",
       "      <td>108.764045</td>\n",
       "      <td>371271319800</td>\n",
       "    </tr>\n",
       "    <tr>\n",
       "      <th>...</th>\n",
       "      <td>...</td>\n",
       "      <td>...</td>\n",
       "      <td>...</td>\n",
       "    </tr>\n",
       "    <tr>\n",
       "      <th>364</th>\n",
       "      <td>417310</td>\n",
       "      <td>19.261822</td>\n",
       "      <td>208868000000</td>\n",
       "    </tr>\n",
       "    <tr>\n",
       "      <th>365</th>\n",
       "      <td>432320</td>\n",
       "      <td>29.925926</td>\n",
       "      <td>444701639725</td>\n",
       "    </tr>\n",
       "    <tr>\n",
       "      <th>366</th>\n",
       "      <td>452260</td>\n",
       "      <td>20.040282</td>\n",
       "      <td>231080655120</td>\n",
       "    </tr>\n",
       "    <tr>\n",
       "      <th>367</th>\n",
       "      <td>460850</td>\n",
       "      <td>23.154362</td>\n",
       "      <td>219456135040</td>\n",
       "    </tr>\n",
       "    <tr>\n",
       "      <th>368</th>\n",
       "      <td>950210</td>\n",
       "      <td>65.834428</td>\n",
       "      <td>758413476100</td>\n",
       "    </tr>\n",
       "  </tbody>\n",
       "</table>\n",
       "<p>369 rows × 3 columns</p>\n",
       "</div>"
      ],
      "text/plain": [
       "       code        rate         marcap\n",
       "0    000100   72.810841  7282983011200\n",
       "1    000105   33.024119    84673398000\n",
       "2    000120   37.327824  2274390696800\n",
       "3    000150  106.796117  2463703798500\n",
       "4    000155  108.764045   371271319800\n",
       "..      ...         ...            ...\n",
       "364  417310   19.261822   208868000000\n",
       "365  432320   29.925926   444701639725\n",
       "366  452260   20.040282   231080655120\n",
       "367  460850   23.154362   219456135040\n",
       "368  950210   65.834428   758413476100\n",
       "\n",
       "[369 rows x 3 columns]"
      ]
     },
     "execution_count": 5,
     "metadata": {},
     "output_type": "execute_result"
    }
   ],
   "source": [
    "df_ks"
   ]
  },
  {
   "cell_type": "code",
   "execution_count": 18,
   "id": "7a446425-b857-4d27-8e77-12b833c28aeb",
   "metadata": {
    "tags": []
   },
   "outputs": [],
   "source": [
    "def next_stock(button):\n",
    "    out.clear_output()\n",
    "    with out:\n",
    "        if not next_stock.initial:\n",
    "            if button == button_next:\n",
    "                next_stock.cnt += 1\n",
    "                next_stock.cnt = np.clip(next_stock.cnt, 0, len(df_ks)-1)\n",
    "            else:\n",
    "                next_stock.cnt -= 1\n",
    "                next_stock.cnt = np.clip(next_stock.cnt, 0, len(df_ks)-1)\n",
    "        else:\n",
    "            next_stock.initial = False\n",
    "        print(df_ks.iloc[next_stock.cnt, :])        \n",
    "next_stock.cnt = 0\n",
    "next_stock.initial = True\n",
    "\n",
    "button_next = widgets.Button(\n",
    "    description='Next',\n",
    "    disabled=False,\n",
    "    button_style='', # 'success', 'info', 'warning', 'danger' or ''\n",
    "    tooltip='',\n",
    "    icon='caret-right' # (FontAwesome names without the `fa-` prefix)\n",
    ")\n",
    "button_next.on_click(next_stock)\n",
    "\n",
    "button_prev = widgets.Button(\n",
    "    description='Prev',\n",
    "    disabled=False,\n",
    "    button_style='', # 'success', 'info', 'warning', 'danger' or ''\n",
    "    tooltip='',\n",
    "    icon='caret-left' # (FontAwesome names without the `fa-` prefix)\n",
    ")\n",
    "button_prev.on_click(next_stock)\n",
    "\n",
    "out = widgets.Output(layout={'border': '1px solid black'})\n",
    "out.clear_output()\n",
    "with out:\n",
    "    print(df_ks.iloc[0, :])\n",
    "        \n",
    "out = widgets.Output(layout={'border': '1px solid black'})"
   ]
  },
  {
   "cell_type": "code",
   "execution_count": 19,
   "id": "efc869e9-8715-4bd0-836d-e06630f33e89",
   "metadata": {
    "tags": []
   },
   "outputs": [
    {
     "data": {
      "application/vnd.jupyter.widget-view+json": {
       "model_id": "a947dac88bf1467dbec405eba4badb46",
       "version_major": 2,
       "version_minor": 0
      },
      "text/plain": [
       "VBox(children=(HBox(children=(Button(description='Prev', icon='caret-left', style=ButtonStyle(), tooltip=''), …"
      ]
     },
     "execution_count": 19,
     "metadata": {},
     "output_type": "execute_result"
    }
   ],
   "source": [
    "buttons = widgets.HBox([button_prev, button_next])\n",
    "widgets.VBox([buttons, out])"
   ]
  },
  {
   "cell_type": "code",
   "execution_count": null,
   "id": "cbae3d9b-3931-411c-9db1-76106a5b9f58",
   "metadata": {},
   "outputs": [],
   "source": []
  },
  {
   "cell_type": "code",
   "execution_count": null,
   "id": "942cf360-77f0-4c21-a92a-d7b961458e2d",
   "metadata": {},
   "outputs": [],
   "source": []
  }
 ],
 "metadata": {
  "kernelspec": {
   "display_name": "Python 3 (ipykernel)",
   "language": "python",
   "name": "python3"
  },
  "language_info": {
   "codemirror_mode": {
    "name": "ipython",
    "version": 3
   },
   "file_extension": ".py",
   "mimetype": "text/x-python",
   "name": "python",
   "nbconvert_exporter": "python",
   "pygments_lexer": "ipython3",
   "version": "3.11.5"
  }
 },
 "nbformat": 4,
 "nbformat_minor": 5
}
