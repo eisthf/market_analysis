{
 "cells": [
  {
   "cell_type": "code",
   "execution_count": 3,
   "id": "400e73d0-a72d-4d73-85ba-7a0bb8ad0bbe",
   "metadata": {
    "tags": []
   },
   "outputs": [],
   "source": [
    "import importlib\n",
    "import market\n",
    "importlib.reload(market)\n",
    "from market import strong_stocks, get_ohlc"
   ]
  },
  {
   "cell_type": "code",
   "execution_count": 5,
   "id": "d5224cae-a0ec-475d-ab5d-a28ee392ba83",
   "metadata": {
    "tags": []
   },
   "outputs": [
    {
     "name": "stderr",
     "output_type": "stream",
     "text": [
      "100%|████████████████████████████████████████████████████████████████████████████████| 958/958 [00:12<00:00, 74.05it/s]\n"
     ]
    }
   ],
   "source": [
    "ks_rate, df_ks = strong_stocks('kospi')"
   ]
  },
  {
   "cell_type": "code",
   "execution_count": 7,
   "id": "b11ee8c6-a9af-41a5-8df2-951f549981b0",
   "metadata": {
    "tags": []
   },
   "outputs": [
    {
     "name": "stderr",
     "output_type": "stream",
     "text": [
      "100%|██████████████████████████████████████████████████████████████████████████████| 1746/1746 [00:23<00:00, 75.69it/s]\n"
     ]
    }
   ],
   "source": [
    "kq_rate, df_kq = strong_stocks('kosdaq')"
   ]
  },
  {
   "cell_type": "code",
   "execution_count": 25,
   "id": "7318aaa6-a269-45a1-bfeb-edc0a3ed60bb",
   "metadata": {
    "tags": []
   },
   "outputs": [
    {
     "data": {
      "text/plain": [
       "(28, 3)"
      ]
     },
     "execution_count": 25,
     "metadata": {},
     "output_type": "execute_result"
    }
   ],
   "source": [
    "df_ks.query(f'40 < rate < 50 and marcap > 100000000000').shape"
   ]
  },
  {
   "cell_type": "code",
   "execution_count": null,
   "id": "45c75ac3-3e39-48d7-b9b0-cec17afa42ea",
   "metadata": {},
   "outputs": [],
   "source": []
  }
 ],
 "metadata": {
  "kernelspec": {
   "display_name": "Python 3 (ipykernel)",
   "language": "python",
   "name": "python3"
  },
  "language_info": {
   "codemirror_mode": {
    "name": "ipython",
    "version": 3
   },
   "file_extension": ".py",
   "mimetype": "text/x-python",
   "name": "python",
   "nbconvert_exporter": "python",
   "pygments_lexer": "ipython3",
   "version": "3.11.5"
  }
 },
 "nbformat": 4,
 "nbformat_minor": 5
}
